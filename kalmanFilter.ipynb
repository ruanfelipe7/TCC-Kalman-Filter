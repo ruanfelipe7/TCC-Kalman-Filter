{
 "cells": [
  {
   "cell_type": "markdown",
   "metadata": {},
   "source": [
    "# Filtro de Kalman"
   ]
  },
  {
   "cell_type": "code",
   "execution_count": 273,
   "metadata": {},
   "outputs": [],
   "source": [
    "import numpy as np"
   ]
  },
  {
   "cell_type": "code",
   "execution_count": 274,
   "metadata": {},
   "outputs": [],
   "source": [
    "def determinarDF(x, y, theta, Sx, Sy):\n",
    "    dF = 0\n",
    "    x = x[0][0]\n",
    "    y = y[0][0]\n",
    "    theta = theta[0]\n",
    "    print(x, y, theta)\n",
    "    if theta >= 0 and theta < np.pi / 2:\n",
    "        dF = (Sy - y) / np.abs(np.cos(theta)) \n",
    "    elif theta >= np.pi / 2 and theta < np.pi:\n",
    "        dF = (Sx - x) / np.abs(np.sin(theta))\n",
    "    elif theta >= np.pi and theta < 3*np.pi/2:\n",
    "        dF = y / np.abs(np.cos(theta)) \n",
    "    elif theta >= 3 * np.pi / 2 and theta < 2 * np.pi:\n",
    "        dF = x / np.abs(np.sin(theta))        \n",
    "    return dF\n",
    "\n",
    "def determinarDR(x, y, theta, Sx, Sy):\n",
    "    dR = 0\n",
    "    x = x[0][0]\n",
    "    y = y[0][0]\n",
    "    theta = theta[0]\n",
    "    if theta >= 0 and theta < np.pi / 2:\n",
    "        dR = (Sx - x) / np.abs(np.cos(theta)) \n",
    "    elif theta >= np.pi / 2 and theta < np.pi:\n",
    "        dR = (Sx - x) / np.abs(np.sin(theta))\n",
    "    elif theta >= np.pi and theta < 3*np.pi/2:\n",
    "        dR = x / np.abs(np.cos(theta)) \n",
    "    elif theta >= 3 * np.pi / 2 and theta < 2 * np.pi:\n",
    "        dR = (Sy - y) / np.abs(np.sin(theta))        \n",
    "    return dR\n",
    "\n",
    "def determinarDL(x, y, theta, Sx, Sy):\n",
    "    dL = 0\n",
    "    x = x[0][0]\n",
    "    y = y[0][0]\n",
    "    theta = theta[0]\n",
    "    if theta >= 0 and theta < np.pi / 2:\n",
    "        dL = x / np.abs(np.cos(theta)) \n",
    "    elif theta >= np.pi / 2 and theta < np.pi:\n",
    "        dL = (Sy - y) / np.abs(np.sin(theta))\n",
    "    elif theta >= np.pi and theta < 3*np.pi/2:\n",
    "        dL = (Sx - x) / np.abs(np.cos(theta)) \n",
    "    elif theta >= 3 * np.pi / 2 and theta < 2 * np.pi:\n",
    "        dL = y / np.abs(np.sin(theta))        \n",
    "    return dL\n",
    "\n",
    "    \n",
    "def determinarMatrizH(x, y, theta, Sx, Sy):\n",
    "    x = x[0][0]\n",
    "    y = y[0][0]\n",
    "    theta = theta[0]\n",
    "    if theta >= 0 and theta < np.pi / 2:\n",
    "        H = np.array([[0, -1/np.abs(np.cos(theta)), 0, 0, (((Sy - y)*np.tan(theta)) / np.abs(np.cos(theta))), 0, 0],\n",
    "                       [-1/np.abs(np.cos(theta)), 0, 0, 0,(((Sx - x)*np.tan(theta)) / np.abs(np.cos(theta))), 0, 0],\n",
    "                       [-1/np.abs(np.cos(theta)), 0, 0, 0, (((x)*np.tan(theta)) / np.abs(np.cos(theta))), 0, 0],\n",
    "                       [0, 0, 0, 0, 0],\n",
    "                       [0, 0, 0, 0, 0]])\n",
    "        print(H.shape)\n",
    "    elif theta >= np.pi / 2 and theta < np.pi:\n",
    "        H = np.array([[-1/np.abs(np.sin(theta)), 0, 0, 0, ((-(Sx - x)*np.cos(theta)) / (np.sin(theta) * np.abs(np.sin(theta)))), 0, 0],\n",
    "                       [0, 1/np.abs(np.sin(theta)),  0, 0, ((-(y)*np.cos(theta)) / (np.sin(theta) * np.abs(np.sin(theta)))), 0, 0],\n",
    "                       [0, -1/np.abs(np.sin(theta)), 0, 0, ((-(Sy - y)*np.cos(theta)) / (np.sin(theta) * np.abs(np.sin(theta)))), 0, 0],\n",
    "                       [0, 0, 0, 0, 0],\n",
    "                       [0, 0, 0, 0, 0]])\n",
    "        print(H.shape)\n",
    "    elif theta >= np.pi and theta < 3*np.pi/2:\n",
    "        H = np.array([[0, 1/np.abs(np.cos(theta)), 0, 0, (((y)*np.tan(theta)) / np.abs(np.cos(theta))), 0, 0],\n",
    "                       [1/np.abs(np.cos(theta)), 0, 0, 0, (((x)*np.tan(theta)) / np.abs(np.cos(theta))), 0, 0],\n",
    "                       [-1/np.abs(np.cos(theta)), 0, 0, 0, (((Sx - x)*np.tan(theta)) / np.abs(np.cos(theta))), 0, 0],\n",
    "                       [0, 0, 0, 0, 0],\n",
    "                       [0, 0, 0, 0, 0]])\n",
    "        print(H.shape)\n",
    "    elif theta >= 3 * np.pi / 2 and theta < 2 * np.pi:\n",
    "        H = np.array([[1/np.abs(np.sin(theta)), 0,   0, 0, ((-(x)*np.cos(theta)) / (np.sin(theta) * np.abs(np.sin(theta)))), 0, 0],\n",
    "                       [0, -1/np.abs(np.sin(theta)),  0, 0, ((-(Sy - y)*np.cos(theta)) / (np.sin(theta) * np.abs(np.sin(theta)))), 0, 0],\n",
    "                       [0, -1/np.abs(np.sin(theta)), 0, 0, ((-(y)*np.cos(theta)) / (np.sin(theta) * np.abs(np.sin(theta)))), 0, 0],\n",
    "                       [0, 0, 0, 0, 0],\n",
    "                       [0, 0, 0, 0, 0]])\n",
    "        print(H.shape)\n",
    "        \n",
    "\n",
    "    print(H.shape)\n",
    "    return H"
   ]
  },
  {
   "cell_type": "code",
   "execution_count": 275,
   "metadata": {},
   "outputs": [],
   "source": [
    "def filtroDeKalman(posicao_anterior, deltaT, u_k, P, distancias_lidas):\n",
    "    posicao_anterior = (np.array([posicao_anterior])).transpose()\n",
    "    distancias = np.array([distancias_lidas])\n",
    "    x_kmenos1, y_kmenos1, vx_kmenos1, vy_kmenos1, theta_kmenos1 = posicao_anterior[0], posicao_anterior[1], posicao_anterior[2], posicao_anterior[3], posicao_anterior[4] \n",
    "    aceleracao_medida, velocidade_angular = u_k[0], u_k[1]\n",
    "    alpha = theta_kmenos1 + (deltaT*velocidade_angular) \n",
    "    deltaX = (1/2 * (deltaT ** 2) * aceleracao_medida  + vx_kmenos1*deltaT) * np.cos(alpha)\n",
    "    deltaY = (1/2 * (deltaT ** 2) * aceleracao_medida + vy_kmenos1*deltaT) * np.sin(alpha)\n",
    "    deltaVx = aceleracao_medida * deltaT * np.cos(alpha)\n",
    "    deltaVy = aceleracao_medida * deltaT * np.sin(alpha)\n",
    "    deltaTheta = deltaT * velocidade_angular\n",
    "    posicao_predita = posicao_anterior + np.array([[deltaX],\n",
    "                                                    [deltaY],\n",
    "                                                    [deltaVx],\n",
    "                                                    [deltaVy],\n",
    "                                                    [deltaTheta]])\n",
    "    F_p = np.array([[1, 0, deltaT * np.cos(alpha), 0, ((-1/2 * (deltaT ** 2) * aceleracao_medida - vx_kmenos1 * deltaT) * np.sin(alpha))],\n",
    "                     [0, 1, 0, deltaT * np.sin(alpha), ((1/2 * (deltaT ** 2) * aceleracao_medida + vy_kmenos1 * deltaT) * np.cos(alpha))],\n",
    "                     [0, 0, 1, 0, (-1)*(aceleracao_medida * deltaT * np.sin(alpha))],\n",
    "                     [0, 0, 0, 1, (aceleracao_medida * deltaT * np.cos(alpha))],\n",
    "                     [0, 0, 0, 0, 1]])\n",
    "    \n",
    "    F_u = np.array([[1/2 * (deltaT ** 2) * np.cos(alpha), \n",
    "                        ((-1/2 * (deltaT ** 3) * aceleracao_medida) - (vx_kmenos1 * (deltaT ** 2))) * np.sin(alpha)],\n",
    "                     [1/2 * (deltaT ** 2) * np.sin(alpha),\n",
    "                         ((1/2 * (deltaT ** 3) * aceleracao_medida) + (vy_kmenos1 * (deltaT ** 2))) * np.cos(alpha)],\n",
    "                     [deltaT * np.cos(alpha), (-1)*(aceleracao_medida * deltaT * np.sin(alpha))],\n",
    "                     [deltaT * np.sin(alpha), (aceleracao_medida * deltaT * np.cos(alpha))],\n",
    "                     [0, deltaT]])\n",
    "    \n",
    "    Q = np.array([[1, 0],\n",
    "                   [0, 1]])\n",
    "    print(F_u.shape)\n",
    "    P_predito = (F_p.dot(P)).dot(F_p.transpose()) + (F_u.dot(Q)).dot(F_u.transpose())\n",
    "    Sx, Sy = 1, 1\n",
    "    hDF = determinarDF(posicao_predita[0], posicao_predita[1], posicao_predita[4], Sx, Sy)\n",
    "    hDR = determinarDR(posicao_predita[0], posicao_predita[1], posicao_predita[4], Sx, Sy)\n",
    "    hDL = determinarDL(posicao_predita[0], posicao_predita[1], posicao_predita[4], Sx, Sy)\n",
    "    funcaoH = [hDF, hDR, hDL]\n",
    "    Vk = distancias - np.array([funcaoH])\n",
    "    H = determinarMatrizH(posicao_predita[0], posicao_predita[1], posicao_predita[4], Sx, Sy)\n",
    "    Rk = np.array([[0.01, 0, 0, 0, 0],\n",
    "                    [0, 0.01, 0, 0, 0],\n",
    "                    [0, 0, 0.01, 0, 0],\n",
    "                    [0, 0, 0, 0.01, 0],\n",
    "                    [0, 0, 0, 0, 0.01]])\n",
    "    print(P_predito.shape)\n",
    "    Sk = (H.dot(P_predito)).dot(H.transpose()) + Rk\n",
    "    Kk = (P_predito.dot(H.transpose())).dot(np.linalg.inv(Sk)) \n",
    "    posicao_atual = posicao_predita + (Kk.dot(Vk))\n",
    "    P_atual = P_predito + ((Kk.dot(Sk)).dot(Kk.transpose()))\n",
    "    return posicao_atual, P_atual"
   ]
  },
  {
   "cell_type": "code",
   "execution_count": 276,
   "metadata": {},
   "outputs": [
    {
     "name": "stdout",
     "output_type": "stream",
     "text": [
      "(4, 4)\n",
      "[[ 0.13368984  0.10695187  0.02139037 -0.09090909]\n",
      " [-0.00229183  0.02673797  0.14820474 -0.12987013]\n",
      " [-0.12987013  0.18181818  0.06493506 -0.02597403]\n",
      " [ 0.11000764 -0.28342246 -0.11382735  0.23376623]]\n"
     ]
    }
   ],
   "source": [
    "A = np.array([[6, 1, 1, 3], \n",
    "              [4, -2, 5, 1], \n",
    "              [2, 8, 7, 6], \n",
    "              [3, 1, 9, 7]]) \n",
    "print(A.shape)\n",
    "print(np.linalg.inv(A))"
   ]
  },
  {
   "cell_type": "code",
   "execution_count": 277,
   "metadata": {},
   "outputs": [
    {
     "name": "stdout",
     "output_type": "stream",
     "text": [
      "(5, 2)\n",
      "0.0004997750168744939 1.4997750101247834e-05 0.03\n",
      "(5,)\n",
      "(5,)\n",
      "(5, 5)\n"
     ]
    },
    {
     "name": "stderr",
     "output_type": "stream",
     "text": [
      "<ipython-input-275-9c987c92d63a>:12: VisibleDeprecationWarning: Creating an ndarray from ragged nested sequences (which is a list-or-tuple of lists-or-tuples-or ndarrays with different lengths or shapes) is deprecated. If you meant to do this, you must specify 'dtype=object' when creating the ndarray.\n",
      "  posicao_predita = posicao_anterior + np.array([[deltaX],\n",
      "<ipython-input-275-9c987c92d63a>:17: VisibleDeprecationWarning: Creating an ndarray from ragged nested sequences (which is a list-or-tuple of lists-or-tuples-or ndarrays with different lengths or shapes) is deprecated. If you meant to do this, you must specify 'dtype=object' when creating the ndarray.\n",
      "  F_p = np.array([[1, 0, deltaT * np.cos(alpha), 0, ((-1/2 * (deltaT ** 2) * aceleracao_medida - vx_kmenos1 * deltaT) * np.sin(alpha))],\n",
      "<ipython-input-275-9c987c92d63a>:23: VisibleDeprecationWarning: Creating an ndarray from ragged nested sequences (which is a list-or-tuple of lists-or-tuples-or ndarrays with different lengths or shapes) is deprecated. If you meant to do this, you must specify 'dtype=object' when creating the ndarray.\n",
      "  F_u = np.array([[1/2 * (deltaT ** 2) * np.cos(alpha),\n",
      "<ipython-input-274-3ec1d93eaaaf>:53: VisibleDeprecationWarning: Creating an ndarray from ragged nested sequences (which is a list-or-tuple of lists-or-tuples-or ndarrays with different lengths or shapes) is deprecated. If you meant to do this, you must specify 'dtype=object' when creating the ndarray.\n",
      "  H = np.array([[0, -1/np.abs(np.cos(theta)), 0, 0, (((Sy - y)*np.tan(theta)) / np.abs(np.cos(theta))), 0, 0],\n"
     ]
    },
    {
     "ename": "ValueError",
     "evalue": "operands could not be broadcast together with shapes (7,) (5,) ",
     "output_type": "error",
     "traceback": [
      "\u001b[0;31m---------------------------------------------------------------------------\u001b[0m",
      "\u001b[0;31mValueError\u001b[0m                                Traceback (most recent call last)",
      "\u001b[0;32m<ipython-input-277-95e538bab66c>\u001b[0m in \u001b[0;36m<module>\u001b[0;34m\u001b[0m\n\u001b[1;32m      1\u001b[0m \u001b[0mP\u001b[0m \u001b[0;34m=\u001b[0m \u001b[0mnp\u001b[0m\u001b[0;34m.\u001b[0m\u001b[0mmatrix\u001b[0m\u001b[0;34m(\u001b[0m\u001b[0;34m[\u001b[0m\u001b[0;34m[\u001b[0m\u001b[0;36m1\u001b[0m\u001b[0;34m,\u001b[0m \u001b[0;36m0\u001b[0m\u001b[0;34m,\u001b[0m \u001b[0;36m0\u001b[0m\u001b[0;34m,\u001b[0m \u001b[0;36m0\u001b[0m\u001b[0;34m,\u001b[0m \u001b[0;36m0\u001b[0m\u001b[0;34m]\u001b[0m\u001b[0;34m,\u001b[0m \u001b[0;34m[\u001b[0m\u001b[0;36m0\u001b[0m\u001b[0;34m,\u001b[0m \u001b[0;36m1\u001b[0m\u001b[0;34m,\u001b[0m \u001b[0;36m0\u001b[0m\u001b[0;34m,\u001b[0m \u001b[0;36m0\u001b[0m\u001b[0;34m,\u001b[0m \u001b[0;36m0\u001b[0m\u001b[0;34m]\u001b[0m\u001b[0;34m,\u001b[0m \u001b[0;34m[\u001b[0m\u001b[0;36m0\u001b[0m\u001b[0;34m,\u001b[0m \u001b[0;36m0\u001b[0m\u001b[0;34m,\u001b[0m \u001b[0;36m1\u001b[0m\u001b[0;34m,\u001b[0m \u001b[0;36m0\u001b[0m\u001b[0;34m,\u001b[0m \u001b[0;36m0\u001b[0m\u001b[0;34m]\u001b[0m\u001b[0;34m,\u001b[0m \u001b[0;34m[\u001b[0m\u001b[0;36m0\u001b[0m\u001b[0;34m,\u001b[0m \u001b[0;36m0\u001b[0m\u001b[0;34m,\u001b[0m \u001b[0;36m0\u001b[0m\u001b[0;34m,\u001b[0m \u001b[0;36m1\u001b[0m\u001b[0;34m,\u001b[0m \u001b[0;36m0\u001b[0m\u001b[0;34m]\u001b[0m\u001b[0;34m,\u001b[0m \u001b[0;34m[\u001b[0m\u001b[0;36m0\u001b[0m\u001b[0;34m,\u001b[0m \u001b[0;36m0\u001b[0m\u001b[0;34m,\u001b[0m \u001b[0;36m0\u001b[0m\u001b[0;34m,\u001b[0m \u001b[0;36m0\u001b[0m\u001b[0;34m,\u001b[0m \u001b[0;36m1\u001b[0m\u001b[0;34m]\u001b[0m\u001b[0;34m]\u001b[0m\u001b[0;34m)\u001b[0m\u001b[0;34m\u001b[0m\u001b[0;34m\u001b[0m\u001b[0m\n\u001b[0;32m----> 2\u001b[0;31m \u001b[0mfiltroDeKalman\u001b[0m\u001b[0;34m(\u001b[0m\u001b[0;34m[\u001b[0m\u001b[0;36m0\u001b[0m\u001b[0;34m,\u001b[0m \u001b[0;36m0\u001b[0m\u001b[0;34m,\u001b[0m \u001b[0;36m0\u001b[0m\u001b[0;34m,\u001b[0m \u001b[0;36m0\u001b[0m\u001b[0;34m,\u001b[0m \u001b[0;36m0\u001b[0m\u001b[0;34m]\u001b[0m\u001b[0;34m,\u001b[0m \u001b[0;36m0.1\u001b[0m\u001b[0;34m,\u001b[0m \u001b[0;34m[\u001b[0m\u001b[0;36m0.1\u001b[0m\u001b[0;34m,\u001b[0m \u001b[0;36m0.3\u001b[0m\u001b[0;34m]\u001b[0m\u001b[0;34m,\u001b[0m \u001b[0mP\u001b[0m\u001b[0;34m,\u001b[0m \u001b[0;34m[\u001b[0m\u001b[0;36m0.2\u001b[0m\u001b[0;34m,\u001b[0m \u001b[0;36m0.2\u001b[0m\u001b[0;34m,\u001b[0m \u001b[0;36m0.2\u001b[0m\u001b[0;34m]\u001b[0m\u001b[0;34m)\u001b[0m\u001b[0;34m\u001b[0m\u001b[0;34m\u001b[0m\u001b[0m\n\u001b[0m\u001b[1;32m      3\u001b[0m \u001b[0;34m\u001b[0m\u001b[0m\n\u001b[1;32m      4\u001b[0m \u001b[0;31m# dF (x, y, theta) = {\u001b[0m\u001b[0;34m\u001b[0m\u001b[0;34m\u001b[0m\u001b[0;34m\u001b[0m\u001b[0m\n\u001b[1;32m      5\u001b[0m \u001b[0;31m#     * 0 <= theta < pi/2:      |Yp - Sy| / |cos(theta)|\u001b[0m\u001b[0;34m\u001b[0m\u001b[0;34m\u001b[0m\u001b[0;34m\u001b[0m\u001b[0m\n",
      "\u001b[0;32m<ipython-input-275-9c987c92d63a>\u001b[0m in \u001b[0;36mfiltroDeKalman\u001b[0;34m(posicao_anterior, deltaT, u_k, P, distancias_lidas)\u001b[0m\n\u001b[1;32m     46\u001b[0m                     [0, 0, 0, 0, 0.01]])\n\u001b[1;32m     47\u001b[0m     \u001b[0mprint\u001b[0m\u001b[0;34m(\u001b[0m\u001b[0mP_predito\u001b[0m\u001b[0;34m.\u001b[0m\u001b[0mshape\u001b[0m\u001b[0;34m)\u001b[0m\u001b[0;34m\u001b[0m\u001b[0;34m\u001b[0m\u001b[0m\n\u001b[0;32m---> 48\u001b[0;31m     \u001b[0mSk\u001b[0m \u001b[0;34m=\u001b[0m \u001b[0;34m(\u001b[0m\u001b[0mH\u001b[0m\u001b[0;34m.\u001b[0m\u001b[0mdot\u001b[0m\u001b[0;34m(\u001b[0m\u001b[0mP_predito\u001b[0m\u001b[0;34m)\u001b[0m\u001b[0;34m)\u001b[0m\u001b[0;34m.\u001b[0m\u001b[0mdot\u001b[0m\u001b[0;34m(\u001b[0m\u001b[0mH\u001b[0m\u001b[0;34m.\u001b[0m\u001b[0mtranspose\u001b[0m\u001b[0;34m(\u001b[0m\u001b[0;34m)\u001b[0m\u001b[0;34m)\u001b[0m \u001b[0;34m+\u001b[0m \u001b[0mRk\u001b[0m\u001b[0;34m\u001b[0m\u001b[0;34m\u001b[0m\u001b[0m\n\u001b[0m\u001b[1;32m     49\u001b[0m     \u001b[0mKk\u001b[0m \u001b[0;34m=\u001b[0m \u001b[0;34m(\u001b[0m\u001b[0mP_predito\u001b[0m\u001b[0;34m.\u001b[0m\u001b[0mdot\u001b[0m\u001b[0;34m(\u001b[0m\u001b[0mH\u001b[0m\u001b[0;34m.\u001b[0m\u001b[0mtranspose\u001b[0m\u001b[0;34m(\u001b[0m\u001b[0;34m)\u001b[0m\u001b[0;34m)\u001b[0m\u001b[0;34m)\u001b[0m\u001b[0;34m.\u001b[0m\u001b[0mdot\u001b[0m\u001b[0;34m(\u001b[0m\u001b[0mnp\u001b[0m\u001b[0;34m.\u001b[0m\u001b[0mlinalg\u001b[0m\u001b[0;34m.\u001b[0m\u001b[0minv\u001b[0m\u001b[0;34m(\u001b[0m\u001b[0mSk\u001b[0m\u001b[0;34m)\u001b[0m\u001b[0;34m)\u001b[0m\u001b[0;34m\u001b[0m\u001b[0;34m\u001b[0m\u001b[0m\n\u001b[1;32m     50\u001b[0m     \u001b[0mposicao_atual\u001b[0m \u001b[0;34m=\u001b[0m \u001b[0mposicao_predita\u001b[0m \u001b[0;34m+\u001b[0m \u001b[0;34m(\u001b[0m\u001b[0mKk\u001b[0m\u001b[0;34m.\u001b[0m\u001b[0mdot\u001b[0m\u001b[0;34m(\u001b[0m\u001b[0mVk\u001b[0m\u001b[0;34m)\u001b[0m\u001b[0;34m)\u001b[0m\u001b[0;34m\u001b[0m\u001b[0;34m\u001b[0m\u001b[0m\n",
      "\u001b[0;31mValueError\u001b[0m: operands could not be broadcast together with shapes (7,) (5,) "
     ]
    }
   ],
   "source": [
    "P = np.matrix([[1, 0, 0, 0, 0], [0, 1, 0, 0, 0], [0, 0, 1, 0, 0], [0, 0, 0, 1, 0], [0, 0, 0, 0, 1]])\n",
    "filtroDeKalman([0, 0, 0, 0, 0], 0.1, [0.1, 0.3], P, [0.2, 0.2, 0.2])\n",
    "\n",
    "# dF (x, y, theta) = {\n",
    "#     * 0 <= theta < pi/2:      |Yp - Sy| / |cos(theta)|\n",
    "#     * pi/2 <= theta < pi:     |Xp - Sx| / |sin(theta)|\n",
    "#     * pi <= theta < 3*pi/2:   Yp / |cos(theta)|\n",
    "#     * 3*pi/2 <= theta < 2*pi: Xp / |sin(theta)|  \n",
    "# }\n",
    "\n",
    "# dR (x, y, theta) = {\n",
    "#     * 0 <= theta < pi/2:      |Sx - Xp| / |cos(theta)\n",
    "#     * pi/2 <= theta < pi:     Yp / |sin(theta)|\n",
    "#     * pi <= theta < 3*pi/2:   Xp / |cos(theta)|\n",
    "#     * 3*pi/2 <= theta < 2*pi: |Sy - Yp| / |sin(theta)| \n",
    "# }\n",
    "\n",
    "# dL (x, y, theta) = {\n",
    "#     * 0 <= theta < pi/2:      Xp / |cos(theta)\n",
    "#     * pi/2 <= theta < pi:     |Sy - Yp| / |sin(theta)|\n",
    "#     * pi <= theta < 3*pi/2:   |Sx - Xp| / |cos(theta)|\n",
    "#     * 3*pi/2 <= theta < 2*pi: Yp / |sin(theta)| \n",
    "# }"
   ]
  },
  {
   "cell_type": "code",
   "execution_count": null,
   "metadata": {},
   "outputs": [],
   "source": []
  }
 ],
 "metadata": {
  "interpreter": {
   "hash": "c32c754a6569c59e664973f13f669aa76b8b675b96de6251d1d76d7155b5e8ed"
  },
  "kernelspec": {
   "display_name": "Python 3.8.5 64-bit ('base': conda)",
   "language": "python",
   "name": "python3"
  },
  "language_info": {
   "codemirror_mode": {
    "name": "ipython",
    "version": 3
   },
   "file_extension": ".py",
   "mimetype": "text/x-python",
   "name": "python",
   "nbconvert_exporter": "python",
   "pygments_lexer": "ipython3",
   "version": "3.8.5"
  },
  "orig_nbformat": 4
 },
 "nbformat": 4,
 "nbformat_minor": 2
}
