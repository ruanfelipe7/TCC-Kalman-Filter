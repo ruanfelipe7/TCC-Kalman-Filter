{
 "cells": [
  {
   "cell_type": "markdown",
   "metadata": {},
   "source": [
    "# Filtro de Kalman"
   ]
  },
  {
   "cell_type": "code",
   "execution_count": 1,
   "metadata": {},
   "outputs": [],
   "source": [
    "import numpy as np"
   ]
  },
  {
   "cell_type": "code",
   "execution_count": 2,
   "metadata": {},
   "outputs": [],
   "source": [
    "def filtroDeKalman(posicao_anterior, deltaT, u_k, P):\n",
    "    posicao_anterior = np.matrix(posicao_anterior).T\n",
    "    x_kmenos1, y_kmenos1, vx_kmenos1, vy_kmenos1, theta_kmenos1 = posicao_anterior[0], posicao_anterior[1], posicao_anterior[2], posicao_anterior[3], posicao_anterior[4] \n",
    "    aceleracao_medida, velocidade_angular = u_k[0], u_k[1]\n",
    "    alpha = theta_kmenos1 + (deltaT*velocidade_angular) \n",
    "    deltaX = (1/2 * (deltaT ** 2) * aceleracao_medida[0] + vx_kmenos1*deltaT) * np.cos(alpha)\n",
    "    deltaY = (1/2 * (deltaT ** 2) * aceleracao_medida[1] + vy_kmenos1*deltaT) * np.sin(alpha)\n",
    "    deltaVx = aceleracao_medida[0] * deltaT * np.cos(alpha)\n",
    "    deltaVy = aceleracao_medida[1] * deltaT * np.sin(alpha)\n",
    "    deltaTheta = deltaT * velocidade_angular\n",
    "    posicao_predita = posicao_anterior + np.matrix([[deltaX],\n",
    "                                                    [deltaY],\n",
    "                                                    [deltaVx],\n",
    "                                                    [deltaVy],\n",
    "                                                    [deltaTheta]])\n",
    "    F_p = np.matrix([[1, 0, deltaT * np.cos(alpha), 0, ((-1/2 * (deltaT ** 2) * aceleracao_medida[0] - vx_kmenos1 * deltaT) * np.sin(alpha))],\n",
    "                     [0, 1, 0, deltaT * np.sin(alpha), ((1/2 * (deltaT ** 2) * aceleracao_medida[1] + vy_kmenos1 * deltaT) * np.cos(alpha))],\n",
    "                     [0, 0, 1, 0, (-1)*(aceleracao_medida[0] * deltaT * np.sin(alpha))],\n",
    "                     [0, 0, 0, 1, (aceleracao_medida[1] * deltaT * np.cos(alpha))],\n",
    "                     [0, 0, 0, 0, 1]])\n",
    "    \n",
    "    F_u = np.matrix([[1/2 * (deltaT ** 2) * np.cos(alpha), \n",
    "                        ((-1/2 * (deltaT ** 3) * aceleracao_medida[0]) - (vx_kmenos1 * (deltaT ** 2))) * np.sin(alpha)],\n",
    "                     [1/2 * (deltaT ** 2) * np.sin(alpha),\n",
    "                         ((1/2 * (deltaT ** 3) * aceleracao_medida[1]) + (vy_kmenos1 * (deltaT ** 2))) * np.cos(alpha)],\n",
    "                     [deltaT * np.cos(alpha), (-1)*(aceleracao_medida[0] * deltaT * np.sin(alpha))],\n",
    "                     [deltaT * np.sin(alpha), (aceleracao_medida[1] * deltaT * np.cos(alpha))],\n",
    "                     [0, deltaT]])\n",
    "    \n",
    "    Q = np.matrix([[1, 0],\n",
    "                   [0, 1]])\n",
    "    \n",
    "    p_predito = F_p * P * F_p.T + F_u * Q * F_u.T\n",
    "    \n",
    " \n",
    "\n",
    "\n",
    "    print(p_predito)"
   ]
  },
  {
   "cell_type": "code",
   "execution_count": 3,
   "metadata": {},
   "outputs": [
    {
     "ename": "IndexError",
     "evalue": "index 3 is out of bounds for axis 0 with size 3",
     "output_type": "error",
     "traceback": [
      "\u001b[0;31m---------------------------------------------------------------------------\u001b[0m",
      "\u001b[0;31mIndexError\u001b[0m                                Traceback (most recent call last)",
      "\u001b[0;32m<ipython-input-3-5b9171a52651>\u001b[0m in \u001b[0;36m<module>\u001b[0;34m\u001b[0m\n\u001b[1;32m      1\u001b[0m \u001b[0mP\u001b[0m \u001b[0;34m=\u001b[0m \u001b[0mnp\u001b[0m\u001b[0;34m.\u001b[0m\u001b[0mmatrix\u001b[0m\u001b[0;34m(\u001b[0m\u001b[0;34m[\u001b[0m\u001b[0;34m[\u001b[0m\u001b[0;36m1\u001b[0m\u001b[0;34m,\u001b[0m \u001b[0;36m0\u001b[0m\u001b[0;34m,\u001b[0m \u001b[0;36m0\u001b[0m\u001b[0;34m,\u001b[0m \u001b[0;36m0\u001b[0m\u001b[0;34m,\u001b[0m \u001b[0;36m0\u001b[0m\u001b[0;34m]\u001b[0m\u001b[0;34m,\u001b[0m \u001b[0;34m[\u001b[0m\u001b[0;36m0\u001b[0m\u001b[0;34m,\u001b[0m \u001b[0;36m1\u001b[0m\u001b[0;34m,\u001b[0m \u001b[0;36m0\u001b[0m\u001b[0;34m,\u001b[0m \u001b[0;36m0\u001b[0m\u001b[0;34m,\u001b[0m \u001b[0;36m0\u001b[0m\u001b[0;34m]\u001b[0m\u001b[0;34m,\u001b[0m \u001b[0;34m[\u001b[0m\u001b[0;36m0\u001b[0m\u001b[0;34m,\u001b[0m \u001b[0;36m0\u001b[0m\u001b[0;34m,\u001b[0m \u001b[0;36m1\u001b[0m\u001b[0;34m,\u001b[0m \u001b[0;36m0\u001b[0m\u001b[0;34m,\u001b[0m \u001b[0;36m0\u001b[0m\u001b[0;34m]\u001b[0m\u001b[0;34m,\u001b[0m \u001b[0;34m[\u001b[0m\u001b[0;36m0\u001b[0m\u001b[0;34m,\u001b[0m \u001b[0;36m0\u001b[0m\u001b[0;34m,\u001b[0m \u001b[0;36m0\u001b[0m\u001b[0;34m,\u001b[0m \u001b[0;36m1\u001b[0m\u001b[0;34m,\u001b[0m \u001b[0;36m0\u001b[0m\u001b[0;34m]\u001b[0m\u001b[0;34m,\u001b[0m \u001b[0;34m[\u001b[0m\u001b[0;36m0\u001b[0m\u001b[0;34m,\u001b[0m \u001b[0;36m0\u001b[0m\u001b[0;34m,\u001b[0m \u001b[0;36m0\u001b[0m\u001b[0;34m,\u001b[0m \u001b[0;36m0\u001b[0m\u001b[0;34m,\u001b[0m \u001b[0;36m1\u001b[0m\u001b[0;34m]\u001b[0m\u001b[0;34m]\u001b[0m\u001b[0;34m)\u001b[0m\u001b[0;34m\u001b[0m\u001b[0;34m\u001b[0m\u001b[0m\n\u001b[0;32m----> 2\u001b[0;31m \u001b[0mfiltroDeKalman\u001b[0m\u001b[0;34m(\u001b[0m\u001b[0;34m[\u001b[0m\u001b[0;36m0\u001b[0m\u001b[0;34m,\u001b[0m \u001b[0;36m1\u001b[0m\u001b[0;34m,\u001b[0m \u001b[0;36m90\u001b[0m\u001b[0;34m]\u001b[0m\u001b[0;34m,\u001b[0m \u001b[0;36m100\u001b[0m\u001b[0;34m,\u001b[0m \u001b[0;34m[\u001b[0m\u001b[0;34m[\u001b[0m\u001b[0;36m0.1\u001b[0m\u001b[0;34m,\u001b[0m \u001b[0;36m0.1\u001b[0m\u001b[0;34m]\u001b[0m\u001b[0;34m,\u001b[0m \u001b[0;36m0.3\u001b[0m\u001b[0;34m]\u001b[0m\u001b[0;34m,\u001b[0m \u001b[0mP\u001b[0m\u001b[0;34m)\u001b[0m\u001b[0;34m\u001b[0m\u001b[0;34m\u001b[0m\u001b[0m\n\u001b[0m\u001b[1;32m      3\u001b[0m \u001b[0;34m\u001b[0m\u001b[0m\n\u001b[1;32m      4\u001b[0m \u001b[0;31m# dF (x, y, theta) = {\u001b[0m\u001b[0;34m\u001b[0m\u001b[0;34m\u001b[0m\u001b[0;34m\u001b[0m\u001b[0m\n\u001b[1;32m      5\u001b[0m \u001b[0;31m#     * 0 <= theta < pi/2:      |Yp - Sy| / |cos(theta)|\u001b[0m\u001b[0;34m\u001b[0m\u001b[0;34m\u001b[0m\u001b[0;34m\u001b[0m\u001b[0m\n",
      "\u001b[0;32m<ipython-input-2-b6b9c37ff897>\u001b[0m in \u001b[0;36mfiltroDeKalman\u001b[0;34m(posicao_anterior, deltaT, u_k, P)\u001b[0m\n\u001b[1;32m      1\u001b[0m \u001b[0;32mdef\u001b[0m \u001b[0mfiltroDeKalman\u001b[0m\u001b[0;34m(\u001b[0m\u001b[0mposicao_anterior\u001b[0m\u001b[0;34m,\u001b[0m \u001b[0mdeltaT\u001b[0m\u001b[0;34m,\u001b[0m \u001b[0mu_k\u001b[0m\u001b[0;34m,\u001b[0m \u001b[0mP\u001b[0m\u001b[0;34m)\u001b[0m\u001b[0;34m:\u001b[0m\u001b[0;34m\u001b[0m\u001b[0;34m\u001b[0m\u001b[0m\n\u001b[1;32m      2\u001b[0m     \u001b[0mposicao_anterior\u001b[0m \u001b[0;34m=\u001b[0m \u001b[0mnp\u001b[0m\u001b[0;34m.\u001b[0m\u001b[0mmatrix\u001b[0m\u001b[0;34m(\u001b[0m\u001b[0mposicao_anterior\u001b[0m\u001b[0;34m)\u001b[0m\u001b[0;34m.\u001b[0m\u001b[0mT\u001b[0m\u001b[0;34m\u001b[0m\u001b[0;34m\u001b[0m\u001b[0m\n\u001b[0;32m----> 3\u001b[0;31m     \u001b[0mx_kmenos1\u001b[0m\u001b[0;34m,\u001b[0m \u001b[0my_kmenos1\u001b[0m\u001b[0;34m,\u001b[0m \u001b[0mvx_kmenos1\u001b[0m\u001b[0;34m,\u001b[0m \u001b[0mvy_kmenos1\u001b[0m\u001b[0;34m,\u001b[0m \u001b[0mtheta_kmenos1\u001b[0m \u001b[0;34m=\u001b[0m \u001b[0mposicao_anterior\u001b[0m\u001b[0;34m[\u001b[0m\u001b[0;36m0\u001b[0m\u001b[0;34m]\u001b[0m\u001b[0;34m,\u001b[0m \u001b[0mposicao_anterior\u001b[0m\u001b[0;34m[\u001b[0m\u001b[0;36m1\u001b[0m\u001b[0;34m]\u001b[0m\u001b[0;34m,\u001b[0m \u001b[0mposicao_anterior\u001b[0m\u001b[0;34m[\u001b[0m\u001b[0;36m2\u001b[0m\u001b[0;34m]\u001b[0m\u001b[0;34m,\u001b[0m \u001b[0mposicao_anterior\u001b[0m\u001b[0;34m[\u001b[0m\u001b[0;36m3\u001b[0m\u001b[0;34m]\u001b[0m\u001b[0;34m,\u001b[0m \u001b[0mposicao_anterior\u001b[0m\u001b[0;34m[\u001b[0m\u001b[0;36m4\u001b[0m\u001b[0;34m]\u001b[0m\u001b[0;34m\u001b[0m\u001b[0;34m\u001b[0m\u001b[0m\n\u001b[0m\u001b[1;32m      4\u001b[0m     \u001b[0maceleracao_medida\u001b[0m\u001b[0;34m,\u001b[0m \u001b[0mvelocidade_angular\u001b[0m \u001b[0;34m=\u001b[0m \u001b[0mu_k\u001b[0m\u001b[0;34m[\u001b[0m\u001b[0;36m0\u001b[0m\u001b[0;34m]\u001b[0m\u001b[0;34m,\u001b[0m \u001b[0mu_k\u001b[0m\u001b[0;34m[\u001b[0m\u001b[0;36m1\u001b[0m\u001b[0;34m]\u001b[0m\u001b[0;34m\u001b[0m\u001b[0;34m\u001b[0m\u001b[0m\n\u001b[1;32m      5\u001b[0m     \u001b[0malpha\u001b[0m \u001b[0;34m=\u001b[0m \u001b[0mtheta_kmenos1\u001b[0m \u001b[0;34m+\u001b[0m \u001b[0;34m(\u001b[0m\u001b[0mdeltaT\u001b[0m\u001b[0;34m*\u001b[0m\u001b[0mvelocidade_angular\u001b[0m\u001b[0;34m)\u001b[0m\u001b[0;34m\u001b[0m\u001b[0;34m\u001b[0m\u001b[0m\n",
      "\u001b[0;32m~/.local/lib/python3.8/site-packages/numpy/matrixlib/defmatrix.py\u001b[0m in \u001b[0;36m__getitem__\u001b[0;34m(self, index)\u001b[0m\n\u001b[1;32m    191\u001b[0m \u001b[0;34m\u001b[0m\u001b[0m\n\u001b[1;32m    192\u001b[0m         \u001b[0;32mtry\u001b[0m\u001b[0;34m:\u001b[0m\u001b[0;34m\u001b[0m\u001b[0;34m\u001b[0m\u001b[0m\n\u001b[0;32m--> 193\u001b[0;31m             \u001b[0mout\u001b[0m \u001b[0;34m=\u001b[0m \u001b[0mN\u001b[0m\u001b[0;34m.\u001b[0m\u001b[0mndarray\u001b[0m\u001b[0;34m.\u001b[0m\u001b[0m__getitem__\u001b[0m\u001b[0;34m(\u001b[0m\u001b[0mself\u001b[0m\u001b[0;34m,\u001b[0m \u001b[0mindex\u001b[0m\u001b[0;34m)\u001b[0m\u001b[0;34m\u001b[0m\u001b[0;34m\u001b[0m\u001b[0m\n\u001b[0m\u001b[1;32m    194\u001b[0m         \u001b[0;32mfinally\u001b[0m\u001b[0;34m:\u001b[0m\u001b[0;34m\u001b[0m\u001b[0;34m\u001b[0m\u001b[0m\n\u001b[1;32m    195\u001b[0m             \u001b[0mself\u001b[0m\u001b[0;34m.\u001b[0m\u001b[0m_getitem\u001b[0m \u001b[0;34m=\u001b[0m \u001b[0;32mFalse\u001b[0m\u001b[0;34m\u001b[0m\u001b[0;34m\u001b[0m\u001b[0m\n",
      "\u001b[0;31mIndexError\u001b[0m: index 3 is out of bounds for axis 0 with size 3"
     ]
    }
   ],
   "source": [
    "P = np.matrix([[1, 0, 0, 0, 0], [0, 1, 0, 0, 0], [0, 0, 1, 0, 0], [0, 0, 0, 1, 0], [0, 0, 0, 0, 1]])\n",
    "filtroDeKalman([0, 0, 1, 1, 90], 100, [[0.1, 0.1], 0.3], P)\n",
    "\n",
    "# dF (x, y, theta) = {\n",
    "#     * 0 <= theta < pi/2:      |Yp - Sy| / |cos(theta)|\n",
    "#     * pi/2 <= theta < pi:     |Xp - Sx| / |sin(theta)|\n",
    "#     * pi <= theta < 3*pi/2:   Yp / |cos(theta)|\n",
    "#     * 3*pi/2 <= theta < 2*pi: Xp / |sin(theta)|  \n",
    "# }\n",
    "\n",
    "# dR (x, y, theta) = {\n",
    "#     * 0 <= theta < pi/2:      |Sx - Xp| / |cos(theta)\n",
    "#     * pi/2 <= theta < pi:     Yp / |sin(theta)|\n",
    "#     * pi <= theta < 3*pi/2:   Xp / |cos(theta)|\n",
    "#     * 3*pi/2 <= theta < 2*pi: |Sy - Yp| / |sin(theta)| \n",
    "# }\n",
    "\n",
    "# dL (x, y, theta) = {\n",
    "#     * 0 <= theta < pi/2:      Xp / |cos(theta)\n",
    "#     * pi/2 <= theta < pi:     |Sy - Yp| / |sin(theta)|\n",
    "#     * pi <= theta < 3*pi/2:   |Sx - Xp| / |cos(theta)|\n",
    "#     * 3*pi/2 <= theta < 2*pi: Yp / |sin(theta)| \n",
    "# }"
   ]
  }
 ],
 "metadata": {
  "interpreter": {
   "hash": "c32c754a6569c59e664973f13f669aa76b8b675b96de6251d1d76d7155b5e8ed"
  },
  "kernelspec": {
   "display_name": "Python 3.8.5 64-bit ('base': conda)",
   "language": "python",
   "name": "python3"
  },
  "language_info": {
   "codemirror_mode": {
    "name": "ipython",
    "version": 3
   },
   "file_extension": ".py",
   "mimetype": "text/x-python",
   "name": "python",
   "nbconvert_exporter": "python",
   "pygments_lexer": "ipython3",
   "version": "3.8.5"
  },
  "orig_nbformat": 4
 },
 "nbformat": 4,
 "nbformat_minor": 2
}
