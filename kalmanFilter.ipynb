{
 "cells": [
  {
   "cell_type": "markdown",
   "metadata": {},
   "source": [
    "# Filtro de Kalman"
   ]
  },
  {
   "cell_type": "code",
   "execution_count": 20,
   "metadata": {},
   "outputs": [],
   "source": [
    "import numpy as np"
   ]
  },
  {
   "cell_type": "code",
   "execution_count": 34,
   "metadata": {},
   "outputs": [],
   "source": [
    "def filtroDeKalman(posicao_anterior, deltaT, u_k, P):\n",
    "    posicao_anterior = np.matrix(posicao_anterior).T\n",
    "    x_kmenos1, y_kmenos1, theta_kmenos1 = posicao_anterior[0], posicao_anterior[1], posicao_anterior[2] \n",
    "    aceleracao_medida, velocidade_angular = u_k[0], u_k[1]\n",
    "    deltaX = 1/2 * (deltaT ** 2) * aceleracao_medida[0] * np.cos(theta_kmenos1 + (deltaT*velocidade_angular))\n",
    "    deltaY = 1/2 * (deltaT ** 2) * aceleracao_medida[1] * np.sin(theta_kmenos1 + (deltaT*velocidade_angular))\n",
    "    deltaTheta = deltaT * velocidade_angular\n",
    "    posicao_predita = posicao_anterior + np.matrix([[deltaX],\n",
    "                                                    [deltaY],\n",
    "                                                    [deltaTheta]])\n",
    "    F_p = np.matrix([[1, 0, -1/2 * (deltaT ** 2) * aceleracao_medida[0] * np.sin(theta_kmenos1 + (deltaT*velocidade_angular))],\n",
    "                     [0, 1, 1/2 * (deltaT ** 2) * aceleracao_medida[1] * np.cos(theta_kmenos1 + (deltaT*velocidade_angular))],\n",
    "                     [0, 0, 1]])\n",
    "    \n",
    "    F_u = np.matrix([[1/2 * (deltaT ** 2) * np.cos(theta_kmenos1 + (deltaT*velocidade_angular)), \n",
    "                        -1/2 * (deltaT ** 3) * aceleracao_medida[0] * np.sin(theta_kmenos1 + (deltaT*velocidade_angular))],\n",
    "                     [1/2 * (deltaT ** 2) * np.sin(theta_kmenos1 + (deltaT*velocidade_angular)),\n",
    "                         1/2 * (deltaT ** 3) * aceleracao_medida[1] * np.cos(theta_kmenos1 + (deltaT*velocidade_angular))],\n",
    "                     [0, deltaT]])\n",
    "    \n",
    "    Q = np.matrix([[1, 0],\n",
    "                   [0, 1]])\n",
    "    \n",
    "    p_predito = F_p * P * F_p.T + F_u * Q * F_u.T\n",
    "    \n",
    " \n",
    "\n",
    "\n",
    "    print(p_predito)"
   ]
  },
  {
   "cell_type": "code",
   "execution_count": null,
   "metadata": {},
   "outputs": [],
   "source": [
    "P = np.matrix([[1, 0, 0], [0, 1, 0], [0, 0, 1]])\n",
    "filtroDeKalman([0, 1, 90], 100, [[0.1, 0.1], 0.3], P)\n",
    "\n",
    "dF (x, y, theta) = {\n",
    "    * 0 <= theta < pi/2:      |Yp - Sy| / |cos(theta)|\n",
    "    * pi/2 <= theta < pi:     |Xp - Sx| / |sin(theta)|\n",
    "    * pi <= theta < 3*pi/2:   Yp / |cos(theta)|\n",
    "    * 3*pi/2 <= theta < 2*pi: Xp / |sin(theta)|  \n",
    "}\n",
    "\n",
    "dR (x, y, theta) = {\n",
    "    * 0 <= theta < pi/2:      |Sx - Xp| / |cos(theta)\n",
    "    * pi/2 <= theta < pi:     Yp / |sin(theta)|\n",
    "    * pi <= theta < 3*pi/2:   Xp / |cos(theta)|\n",
    "    * 3*pi/2 <= theta < 2*pi: |Sy - Yp| / |sin(theta)| \n",
    "}\n",
    "\n",
    "dL (x, y, theta) = {\n",
    "    * 0 <= theta < pi/2:      Xp / |cos(theta)\n",
    "    * pi/2 <= theta < pi:     |Sy - Yp| / |sin(theta)|\n",
    "    * pi <= theta < 3*pi/2:   |Sx - Xp| / |cos(theta)|\n",
    "    * 3*pi/2 <= theta < 2*pi: Yp / |sin(theta)| \n",
    "}"
   ]
  }
 ],
 "metadata": {
  "interpreter": {
   "hash": "c32c754a6569c59e664973f13f669aa76b8b675b96de6251d1d76d7155b5e8ed"
  },
  "kernelspec": {
   "display_name": "Python 3.8.5 64-bit ('base': conda)",
   "language": "python",
   "name": "python3"
  },
  "language_info": {
   "codemirror_mode": {
    "name": "ipython",
    "version": 3
   },
   "file_extension": ".py",
   "mimetype": "text/x-python",
   "name": "python",
   "nbconvert_exporter": "python",
   "pygments_lexer": "ipython3",
   "version": "3.8.5"
  },
  "orig_nbformat": 4
 },
 "nbformat": 4,
 "nbformat_minor": 2
}
