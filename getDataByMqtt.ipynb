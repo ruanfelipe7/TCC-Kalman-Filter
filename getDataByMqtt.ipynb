{
 "cells": [
  {
   "cell_type": "markdown",
   "metadata": {},
   "source": [
    "# Receber dados dos sensores com o protocolo MQTT."
   ]
  },
  {
   "cell_type": "code",
   "execution_count": 2,
   "metadata": {},
   "outputs": [],
   "source": [
    "import random\n",
    "from paho.mqtt import client as mqtt_client\n",
    "\n",
    "\n",
    "broker = 'broker.mqtt-dashboard.com'\n",
    "port = 1883\n",
    "client_id = f'python-mqtt-{random.randint(0, 100)}'\n",
    "topicDistanceSensor = \"4361fd9a-0c1e-420c-b858-27ad478288e6/distanceSensor\"\n",
    "topicAccelerometer = \"4361fd9a-0c1e-420c-b858-27ad478288e6/accelerometer\"\n",
    "topicGyroscope = \"4361fd9a-0c1e-420c-b858-27ad478288e6/gyroscope\"\n",
    "distancesData = []\n",
    "accelerationsData = []\n",
    "gyrosData = []"
   ]
  },
  {
   "cell_type": "code",
   "execution_count": 3,
   "metadata": {},
   "outputs": [],
   "source": [
    "def handleMessage(msg):\n",
    "    data = msg.payload.decode();\n",
    "    topic = msg.topic\n",
    "    if topic == topicDistanceSensor:\n",
    "        handleDistanceValues(data)\n",
    "    elif topic == topicAccelerometer:\n",
    "        handleAccelerationValues(data)\n",
    "    elif topic == topicGyroscope:\n",
    "        handleGyroValues(data)\n"
   ]
  },
  {
   "cell_type": "code",
   "execution_count": 4,
   "metadata": {},
   "outputs": [],
   "source": [
    "def handleDistanceValues(data):\n",
    "    if data.find('|') != -1:\n",
    "        parts = data.replace(' ', '').split('|')\n",
    "        distances = []\n",
    "        for element in parts:\n",
    "            if element.find(':') != -1:\n",
    "                value = int(element.split(':')[1])\n",
    "                distances.append(value)\n",
    "        \n",
    "        print(distances)\n",
    "        distancesData.append(distances)"
   ]
  },
  {
   "cell_type": "code",
   "execution_count": 5,
   "metadata": {},
   "outputs": [],
   "source": [
    "def handleAccelerationValues(data):\n",
    "    if data.find(':') != -1:\n",
    "        acceleration = float(data.split(':')[1])\n",
    "        print(acceleration)\n",
    "        accelerationsData.append(acceleration)"
   ]
  },
  {
   "cell_type": "code",
   "execution_count": 6,
   "metadata": {},
   "outputs": [],
   "source": [
    "def handleGyroValues(data):\n",
    "    if data.find(':') != -1:\n",
    "        gyro = float(data.split(':')[1])\n",
    "        print(gyro)\n",
    "        gyrosData.append(gyro)\n",
    "        "
   ]
  },
  {
   "cell_type": "code",
   "execution_count": 7,
   "metadata": {},
   "outputs": [],
   "source": [
    "def connectMqtt():\n",
    "    def on_connect(client, userdata, flags, rc):\n",
    "        if rc == 0:\n",
    "            print(\"Conectado com sucesso ao Broker MQTT!\")\n",
    "        else:\n",
    "            print(\"Falha ao se conectar, código de retorno %d\\n\", rc)\n",
    "\n",
    "    client = mqtt_client.Client(client_id)\n",
    "    client.on_connect = on_connect\n",
    "    client.connect(broker, port)\n",
    "    return client\n",
    "\n",
    "\n",
    "def subscribe(client: mqtt_client):\n",
    "    def on_message(client, userdata, msg):\n",
    "        print(f\"Recebido `{msg.payload.decode()}` do tópico `{msg.topic}`\")\n",
    "        handleMessage(msg)\n",
    "\n",
    "\n",
    "    client.subscribe(topicDistanceSensor)\n",
    "    client.subscribe(topicAccelerometer)\n",
    "    client.subscribe(topicGyroscope)\n",
    "    client.on_message = on_message\n",
    "\n",
    "def runMQTT():\n",
    "    client = connectMqtt()\n",
    "    subscribe(client)\n",
    "    client.loop_forever()"
   ]
  },
  {
   "cell_type": "code",
   "execution_count": 8,
   "metadata": {},
   "outputs": [
    {
     "name": "stdout",
     "output_type": "stream",
     "text": [
      "Conectado com sucesso ao Broker MQTT!\n",
      "Recebido `1:10 | 2:30 | 3:50` do tópico `4361fd9a-0c1e-420c-b858-27ad478288e6/distanceSensor`\n",
      "[10, 30, 50]\n",
      "Recebido `1:30 | 2:50 | 3:150` do tópico `4361fd9a-0c1e-420c-b858-27ad478288e6/distanceSensor`\n",
      "[30, 50, 150]\n",
      "Recebido `1:30 | 2:50 | 3:150` do tópico `4361fd9a-0c1e-420c-b858-27ad478288e6/distanceSensor`\n",
      "[30, 50, 150]\n",
      "Recebido `ax: 10 | ay: 20` do tópico `4361fd9a-0c1e-420c-b858-27ad478288e6/accelerometer`\n",
      "[10.0, 20.0]\n",
      "Recebido `gz:0.78` do tópico `4361fd9a-0c1e-420c-b858-27ad478288e6/gyroscope`\n",
      "0.78\n"
     ]
    },
    {
     "ename": "KeyboardInterrupt",
     "evalue": "",
     "output_type": "error",
     "traceback": [
      "\u001b[0;31m---------------------------------------------------------------------------\u001b[0m",
      "\u001b[0;31mKeyboardInterrupt\u001b[0m                         Traceback (most recent call last)",
      "\u001b[0;32m<ipython-input-8-81c7fc02bd1b>\u001b[0m in \u001b[0;36m<module>\u001b[0;34m\u001b[0m\n\u001b[0;32m----> 1\u001b[0;31m \u001b[0mrunMQTT\u001b[0m\u001b[0;34m(\u001b[0m\u001b[0;34m)\u001b[0m\u001b[0;34m\u001b[0m\u001b[0;34m\u001b[0m\u001b[0m\n\u001b[0m",
      "\u001b[0;32m<ipython-input-7-7e043d097043>\u001b[0m in \u001b[0;36mrunMQTT\u001b[0;34m()\u001b[0m\n\u001b[1;32m     26\u001b[0m     \u001b[0mclient\u001b[0m \u001b[0;34m=\u001b[0m \u001b[0mconnectMqtt\u001b[0m\u001b[0;34m(\u001b[0m\u001b[0;34m)\u001b[0m\u001b[0;34m\u001b[0m\u001b[0;34m\u001b[0m\u001b[0m\n\u001b[1;32m     27\u001b[0m     \u001b[0msubscribe\u001b[0m\u001b[0;34m(\u001b[0m\u001b[0mclient\u001b[0m\u001b[0;34m)\u001b[0m\u001b[0;34m\u001b[0m\u001b[0;34m\u001b[0m\u001b[0m\n\u001b[0;32m---> 28\u001b[0;31m     \u001b[0mclient\u001b[0m\u001b[0;34m.\u001b[0m\u001b[0mloop_forever\u001b[0m\u001b[0;34m(\u001b[0m\u001b[0;34m)\u001b[0m\u001b[0;34m\u001b[0m\u001b[0;34m\u001b[0m\u001b[0m\n\u001b[0m",
      "\u001b[0;32m~/.local/lib/python3.8/site-packages/paho/mqtt/client.py\u001b[0m in \u001b[0;36mloop_forever\u001b[0;34m(self, timeout, max_packets, retry_first_connection)\u001b[0m\n\u001b[1;32m   1754\u001b[0m             \u001b[0mrc\u001b[0m \u001b[0;34m=\u001b[0m \u001b[0mMQTT_ERR_SUCCESS\u001b[0m\u001b[0;34m\u001b[0m\u001b[0;34m\u001b[0m\u001b[0m\n\u001b[1;32m   1755\u001b[0m             \u001b[0;32mwhile\u001b[0m \u001b[0mrc\u001b[0m \u001b[0;34m==\u001b[0m \u001b[0mMQTT_ERR_SUCCESS\u001b[0m\u001b[0;34m:\u001b[0m\u001b[0;34m\u001b[0m\u001b[0;34m\u001b[0m\u001b[0m\n\u001b[0;32m-> 1756\u001b[0;31m                 \u001b[0mrc\u001b[0m \u001b[0;34m=\u001b[0m \u001b[0mself\u001b[0m\u001b[0;34m.\u001b[0m\u001b[0m_loop\u001b[0m\u001b[0;34m(\u001b[0m\u001b[0mtimeout\u001b[0m\u001b[0;34m)\u001b[0m\u001b[0;34m\u001b[0m\u001b[0;34m\u001b[0m\u001b[0m\n\u001b[0m\u001b[1;32m   1757\u001b[0m                 \u001b[0;31m# We don't need to worry about locking here, because we've\u001b[0m\u001b[0;34m\u001b[0m\u001b[0;34m\u001b[0m\u001b[0;34m\u001b[0m\u001b[0m\n\u001b[1;32m   1758\u001b[0m                 \u001b[0;31m# either called loop_forever() when in single threaded mode, or\u001b[0m\u001b[0;34m\u001b[0m\u001b[0;34m\u001b[0m\u001b[0;34m\u001b[0m\u001b[0m\n",
      "\u001b[0;32m~/.local/lib/python3.8/site-packages/paho/mqtt/client.py\u001b[0m in \u001b[0;36m_loop\u001b[0;34m(self, timeout)\u001b[0m\n\u001b[1;32m   1148\u001b[0m \u001b[0;34m\u001b[0m\u001b[0m\n\u001b[1;32m   1149\u001b[0m         \u001b[0;32mtry\u001b[0m\u001b[0;34m:\u001b[0m\u001b[0;34m\u001b[0m\u001b[0;34m\u001b[0m\u001b[0m\n\u001b[0;32m-> 1150\u001b[0;31m             \u001b[0msocklist\u001b[0m \u001b[0;34m=\u001b[0m \u001b[0mselect\u001b[0m\u001b[0;34m.\u001b[0m\u001b[0mselect\u001b[0m\u001b[0;34m(\u001b[0m\u001b[0mrlist\u001b[0m\u001b[0;34m,\u001b[0m \u001b[0mwlist\u001b[0m\u001b[0;34m,\u001b[0m \u001b[0;34m[\u001b[0m\u001b[0;34m]\u001b[0m\u001b[0;34m,\u001b[0m \u001b[0mtimeout\u001b[0m\u001b[0;34m)\u001b[0m\u001b[0;34m\u001b[0m\u001b[0;34m\u001b[0m\u001b[0m\n\u001b[0m\u001b[1;32m   1151\u001b[0m         \u001b[0;32mexcept\u001b[0m \u001b[0mTypeError\u001b[0m\u001b[0;34m:\u001b[0m\u001b[0;34m\u001b[0m\u001b[0;34m\u001b[0m\u001b[0m\n\u001b[1;32m   1152\u001b[0m             \u001b[0;31m# Socket isn't correct type, in likelihood connection is lost\u001b[0m\u001b[0;34m\u001b[0m\u001b[0;34m\u001b[0m\u001b[0;34m\u001b[0m\u001b[0m\n",
      "\u001b[0;31mKeyboardInterrupt\u001b[0m: "
     ]
    }
   ],
   "source": [
    "runMQTT()"
   ]
  }
 ],
 "metadata": {
  "interpreter": {
   "hash": "31f2aee4e71d21fbe5cf8b01ff0e069b9275f58929596ceb00d14d90e3e16cd6"
  },
  "kernelspec": {
   "display_name": "Python 3.8.10 64-bit",
   "language": "python",
   "name": "python3"
  },
  "language_info": {
   "codemirror_mode": {
    "name": "ipython",
    "version": 3
   },
   "file_extension": ".py",
   "mimetype": "text/x-python",
   "name": "python",
   "nbconvert_exporter": "python",
   "pygments_lexer": "ipython3",
   "version": "3.8.5"
  },
  "orig_nbformat": 4
 },
 "nbformat": 4,
 "nbformat_minor": 2
}
