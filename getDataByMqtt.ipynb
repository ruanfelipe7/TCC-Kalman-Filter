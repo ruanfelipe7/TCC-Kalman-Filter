{
 "cells": [
  {
   "cell_type": "markdown",
   "metadata": {},
   "source": [
    "# Receber dados dos sensores com o protocolo MQTT."
   ]
  },
  {
   "cell_type": "code",
   "execution_count": 3,
   "metadata": {},
   "outputs": [],
   "source": [
    "import matplotlib.pyplot as plt"
   ]
  },
  {
   "cell_type": "code",
   "execution_count": 4,
   "metadata": {},
   "outputs": [],
   "source": [
    "import random\n",
    "from paho.mqtt import client as mqtt_client\n",
    "\n",
    "\n",
    "broker = 'broker.mqtt-dashboard.com'\n",
    "port = 1883\n",
    "client_id = f'python-mqtt-{random.randint(0, 100)}'\n",
    "topicDistanceSensor = \"4361fd9a-0c1e-420c-b858-27ad478288e6/distanceSensor\"\n",
    "topicAccelerometer = \"4361fd9a-0c1e-420c-b858-27ad478288e6/accelerometer\"\n",
    "topicGyroscope = \"4361fd9a-0c1e-420c-b858-27ad478288e6/gyroscope\"\n",
    "distancesData = []\n",
    "accelerationsData = []\n",
    "gyrosData = []"
   ]
  },
  {
   "cell_type": "code",
   "execution_count": 5,
   "metadata": {},
   "outputs": [],
   "source": [
    "def handleMessage(msg):\n",
    "    data = msg.payload.decode();\n",
    "    topic = msg.topic\n",
    "    if topic == topicDistanceSensor:\n",
    "        handleDistanceValues(data)\n",
    "    elif topic == topicAccelerometer:\n",
    "        handleAccelerationValues(data)\n",
    "    elif topic == topicGyroscope:\n",
    "        handleGyroValues(data)\n"
   ]
  },
  {
   "cell_type": "code",
   "execution_count": 6,
   "metadata": {},
   "outputs": [],
   "source": [
    "def handleDistanceValues(data):\n",
    "    if data.find('|') != -1:\n",
    "        parts = data.replace(' ', '').split('|')\n",
    "        distances = []\n",
    "        for element in parts:\n",
    "            if element.find(':') != -1:\n",
    "                value = int(element.split(':')[1])\n",
    "                distances.append(value)\n",
    "        \n",
    "        print(distances)\n",
    "        distancesData.append(distances)"
   ]
  },
  {
   "cell_type": "code",
   "execution_count": 7,
   "metadata": {},
   "outputs": [],
   "source": [
    "def handleAccelerationValues(data):\n",
    "    if data.find(':') != -1:\n",
    "        acceleration = float(data.split(':')[1])\n",
    "        print(acceleration)\n",
    "        accelerationsData.append(acceleration)"
   ]
  },
  {
   "cell_type": "code",
   "execution_count": 8,
   "metadata": {},
   "outputs": [],
   "source": [
    "def handleGyroValues(data):\n",
    "    if data.find(':') != -1:\n",
    "        gyro = float(data.split(':')[1])\n",
    "        print(gyro)\n",
    "        gyrosData.append(gyro)\n",
    "        "
   ]
  },
  {
   "cell_type": "code",
   "execution_count": 9,
   "metadata": {},
   "outputs": [],
   "source": [
    "def connectMqtt():\n",
    "    def on_connect(client, userdata, flags, rc):\n",
    "        if rc == 0:\n",
    "            print(\"Conectado com sucesso ao Broker MQTT!\")\n",
    "        else:\n",
    "            print(\"Falha ao se conectar, código de retorno %d\\n\", rc)\n",
    "\n",
    "    client = mqtt_client.Client(client_id)\n",
    "    client.on_connect = on_connect\n",
    "    client.connect(broker, port)\n",
    "    return client\n",
    "\n",
    "\n",
    "def subscribe(client: mqtt_client):\n",
    "    def on_message(client, userdata, msg):\n",
    "        print(f\"Recebido `{msg.payload.decode()}` do tópico `{msg.topic}`\")\n",
    "        handleMessage(msg)\n",
    "\n",
    "\n",
    "    client.subscribe(topicDistanceSensor)\n",
    "    client.subscribe(topicAccelerometer)\n",
    "    client.subscribe(topicGyroscope)\n",
    "    client.on_message = on_message\n",
    "\n",
    "def runMQTT():\n",
    "    client = connectMqtt()\n",
    "    subscribe(client)\n",
    "    client.loop_forever()"
   ]
  },
  {
   "cell_type": "code",
   "execution_count": 10,
   "metadata": {},
   "outputs": [],
   "source": [
    "distancesData = []\n",
    "accelerationsData = []\n",
    "gyrosData = []"
   ]
  },
  {
   "cell_type": "code",
   "execution_count": null,
   "metadata": {},
   "outputs": [],
   "source": [
    "runMQTT()"
   ]
  },
  {
   "cell_type": "code",
   "execution_count": null,
   "metadata": {},
   "outputs": [],
   "source": [
    "print(len(gyrosData))\n",
    "print(len(accelerationsData))\n",
    "print(len(distancesData))"
   ]
  },
  {
   "cell_type": "code",
   "execution_count": null,
   "metadata": {},
   "outputs": [],
   "source": [
    "arquivoGyro = open('arqGyro.txt', 'w');\n",
    "for elem in gyrosData:\n",
    "    arquivoGyro.write(str(elem) + \"\\n\")"
   ]
  },
  {
   "cell_type": "code",
   "execution_count": null,
   "metadata": {},
   "outputs": [],
   "source": [
    "arquivoAcceleration = open('arqAccel.txt', 'w');\n",
    "for elem in accelerationsData:\n",
    "    arquivoAcceleration.write(str(elem) + \"\\n\")"
   ]
  },
  {
   "cell_type": "code",
   "execution_count": null,
   "metadata": {},
   "outputs": [],
   "source": [
    "arquivoDistances = open('arqDist.txt', 'w');\n",
    "for line in distancesData:\n",
    "    for elem in line:\n",
    "        arquivoDistances.write(str(elem) + \";\")\n",
    "    arquivoDistances.write(\"\\n\")\n",
    "        "
   ]
  }
 ],
 "metadata": {
  "interpreter": {
   "hash": "31f2aee4e71d21fbe5cf8b01ff0e069b9275f58929596ceb00d14d90e3e16cd6"
  },
  "kernelspec": {
   "display_name": "Python 3 (ipykernel)",
   "language": "python",
   "name": "python3"
  },
  "language_info": {
   "codemirror_mode": {
    "name": "ipython",
    "version": 3
   },
   "file_extension": ".py",
   "mimetype": "text/x-python",
   "name": "python",
   "nbconvert_exporter": "python",
   "pygments_lexer": "ipython3",
   "version": "3.9.7"
  }
 },
 "nbformat": 4,
 "nbformat_minor": 2
}
