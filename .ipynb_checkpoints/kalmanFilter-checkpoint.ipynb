{
 "cells": [
  {
   "cell_type": "markdown",
   "metadata": {},
   "source": [
    "# Filtro de Kalman"
   ]
  },
  {
   "cell_type": "markdown",
   "metadata": {},
   "source": [
    "Funções de cálculo das distâncias medidas pelos sensores.\n",
    "\n",
    "$dF (x, y, \\theta) = \\begin{matrix} \\frac{|Sy - Yp|}{|\\cos(\\theta)|}, & 0 \\le \\theta \\lt \\frac{\\pi}{2}  \\\\ \n",
    "          \\frac{|Sx - Xp|}{|\\sin(\\theta)|}, & \\frac{\\pi}{2} \\le \\theta \\lt \\pi \\\\\n",
    "          \\frac{Yp}{|\\cos(\\theta)|}, & \\pi \\le \\theta \\lt \\frac{3\\pi}{2}  \\\\ \n",
    "          \\frac{Xp}{|\\sin(\\theta)|}, & \\frac{3\\pi}{2} \\le \\theta \\lt 2\\pi\n",
    "           \\end{matrix} $\n",
    "\n",
    "$dR (x, y, \\theta) = \\begin{matrix} \\frac{|Sx - Xp|}{|\\cos(\\theta)|}, & 0 \\le \\theta \\lt \\frac{\\pi}{2}  \\\\ \n",
    "          \\frac{Yp}{|\\sin(\\theta)|}, & \\frac{\\pi}{2} \\le \\theta \\lt \\pi \\\\\n",
    "          \\frac{Xp}{|\\cos(\\theta)|}, & \\pi \\le \\theta \\lt \\frac{3\\pi}{2}  \\\\ \n",
    "          \\frac{|Sy - Yp|}{|\\sin(\\theta)|}, & \\frac{3\\pi}{2} \\le \\theta \\lt 2\\pi\n",
    "           \\end{matrix} $\n",
    "\n",
    "$dL (x, y, \\theta) = \\begin{matrix} \\frac{Xp}{|\\cos(\\theta)|}, & 0 \\le \\theta \\lt \\frac{\\pi}{2}  \\\\ \n",
    "          \\frac{|Sy - Yp|}{|\\sin(\\theta)|}, & \\frac{\\pi}{2} \\le \\theta \\lt \\pi \\\\\n",
    "          \\frac{Sx - Xp}{|\\cos(\\theta)|}, & \\pi \\le \\theta \\lt \\frac{3\\pi}{2}  \\\\ \n",
    "          \\frac{Yp}{|\\sin(\\theta)|}, & \\frac{3\\pi}{2} \\le \\theta \\lt 2\\pi\n",
    "           \\end{matrix} $"
   ]
  },
  {
   "cell_type": "code",
<<<<<<< HEAD
   "execution_count": 1,
=======
   "execution_count": 21,
>>>>>>> 172a6ecc302271368a4c1e86797b794fdc508df9
   "metadata": {},
   "outputs": [],
   "source": [
    "import numpy as np\n",
    "import warnings\n",
    "warnings.filterwarnings('ignore')"
   ]
  },
  {
   "cell_type": "code",
<<<<<<< HEAD
   "execution_count": 71,
=======
   "execution_count": 26,
>>>>>>> 172a6ecc302271368a4c1e86797b794fdc508df9
   "metadata": {},
   "outputs": [],
   "source": [
    "def determinarDF(x, y, theta, Sx, Sy):\n",
    "    dF = 0\n",
    "    if theta >= 0 and theta < np.pi / 2:\n",
    "        dF = (Sy - y) / np.abs(np.cos(theta)) \n",
    "    elif theta >= np.pi / 2 and theta < np.pi:\n",
    "        dF = (Sx - x) / np.abs(np.sin(theta))\n",
    "    elif theta >= np.pi and theta < 3*np.pi/2:\n",
    "        dF = y / np.abs(np.cos(theta)) \n",
    "    elif theta >= 3 * np.pi / 2 and theta < 2 * np.pi:\n",
    "        dF = x / np.abs(np.sin(theta))        \n",
    "    return dF\n",
    "\n",
    "def determinarDR(x, y, theta, Sx, Sy):\n",
    "    dR = 0\n",
    "    if theta >= 0 and theta < np.pi / 2:\n",
    "        dR = (Sx - x) / np.abs(np.cos(theta)) \n",
    "    elif theta >= np.pi / 2 and theta < np.pi:\n",
    "        dR = (Sx - x) / np.abs(np.sin(theta))\n",
    "    elif theta >= np.pi and theta < 3*np.pi/2:\n",
    "        dR = x / np.abs(np.cos(theta)) \n",
    "    elif theta >= 3 * np.pi / 2 and theta < 2 * np.pi:\n",
    "        dR = (Sy - y) / np.abs(np.sin(theta))        \n",
    "    return dR\n",
    "\n",
    "def determinarDL(x, y, theta, Sx, Sy):\n",
    "    dL = 0\n",
    "    if theta >= 0 and theta < np.pi / 2:\n",
    "        dL = x / np.abs(np.cos(theta)) \n",
    "    elif theta >= np.pi / 2 and theta < np.pi:\n",
    "        dL = (Sy - y) / np.abs(np.sin(theta))\n",
    "    elif theta >= np.pi and theta < 3*np.pi/2:\n",
    "        dL = (Sx - x) / np.abs(np.cos(theta)) \n",
    "    elif theta >= 3 * np.pi / 2 and theta < 2 * np.pi:\n",
    "        dL = y / np.abs(np.sin(theta))        \n",
    "    return dL\n",
    "\n",
    "    \n",
    "def determinarMatrizH(x, y, theta, Sx, Sy):\n",
    "    if theta >= 0 and theta < np.pi / 2:\n",
    "        H = np.array([[0, -1/np.abs(np.cos(theta)), 0, 0, (((Sy - y)*np.tan(theta)) / np.abs(np.cos(theta)))],\n",
    "                       [-1/np.abs(np.cos(theta)), 0, 0, 0,(((Sx - x)*np.tan(theta)) / np.abs(np.cos(theta)))],\n",
    "                       [-1/np.abs(np.cos(theta)), 0, 0, 0, (((x)*np.tan(theta)) / np.abs(np.cos(theta)))],\n",
<<<<<<< HEAD
    "                       [0, 0, 0, 1, 0],\n",
    "                       [0, 0, 0, 0, 1]])\n",
=======
    "                       [0, 0, 0, 0, 0],\n",
    "                       [0, 0, 0, 0, 0]])\n",
>>>>>>> 172a6ecc302271368a4c1e86797b794fdc508df9
    "    elif theta >= np.pi / 2 and theta < np.pi:\n",
    "        H = np.array([[-1/np.abs(np.sin(theta)), 0, 0, 0, ((-(Sx - x)*np.cos(theta)) / (np.sin(theta) * np.abs(np.sin(theta))))],\n",
    "                       [0, 1/np.abs(np.sin(theta)),  0, 0, ((-(y)*np.cos(theta)) / (np.sin(theta) * np.abs(np.sin(theta))))],\n",
    "                       [0, -1/np.abs(np.sin(theta)), 0, 0, ((-(Sy - y)*np.cos(theta)) / (np.sin(theta) * np.abs(np.sin(theta))))],\n",
<<<<<<< HEAD
    "                       [0, 0, 0, 1, 0],\n",
    "                       [0, 0, 0, 0, 1]])\n",
=======
    "                       [0, 0, 0, 0, 0],\n",
    "                       [0, 0, 0, 0, 0]])\n",
>>>>>>> 172a6ecc302271368a4c1e86797b794fdc508df9
    "    elif theta >= np.pi and theta < 3*np.pi/2:\n",
    "        H = np.array([[0, 1/np.abs(np.cos(theta)), 0, 0, (((y)*np.tan(theta)) / np.abs(np.cos(theta)))],\n",
    "                       [1/np.abs(np.cos(theta)), 0, 0, 0, (((x)*np.tan(theta)) / np.abs(np.cos(theta)))],\n",
    "                       [-1/np.abs(np.cos(theta)), 0, 0, 0, (((Sx - x)*np.tan(theta)) / np.abs(np.cos(theta)))],\n",
<<<<<<< HEAD
    "                       [0, 0, 0, 1, 0],\n",
    "                       [0, 0, 0, 0, 1]])\n",
=======
    "                       [0, 0, 0, 0, 0],\n",
    "                       [0, 0, 0, 0, 0]])\n",
>>>>>>> 172a6ecc302271368a4c1e86797b794fdc508df9
    "    elif theta >= 3 * np.pi / 2 and theta < 2 * np.pi:\n",
    "        H = np.array([[1/np.abs(np.sin(theta)), 0,   0, 0, ((-(x)*np.cos(theta)) / (np.sin(theta) * np.abs(np.sin(theta))))],\n",
    "                       [0, -1/np.abs(np.sin(theta)),  0, 0, ((-(Sy - y)*np.cos(theta)) / (np.sin(theta) * np.abs(np.sin(theta))))],\n",
    "                       [0, -1/np.abs(np.sin(theta)), 0, 0, ((-(y)*np.cos(theta)) / (np.sin(theta) * np.abs(np.sin(theta))))],\n",
<<<<<<< HEAD
    "                       [0, 0, 0, 1, 0],\n",
    "                       [0, 0, 0, 0, 1]])\n",
=======
    "                       [0, 0, 0, 0, 0],\n",
    "                       [0, 0, 0, 0, 0]])\n",
>>>>>>> 172a6ecc302271368a4c1e86797b794fdc508df9
    "    return H"
   ]
  },
  {
   "cell_type": "code",
<<<<<<< HEAD
   "execution_count": 72,
=======
   "execution_count": 27,
>>>>>>> 172a6ecc302271368a4c1e86797b794fdc508df9
   "metadata": {},
   "outputs": [],
   "source": [
    "def calculateInverseSk(Sk):\n",
    "    numeros = []\n",
    "    matrixSk = []\n",
    "    for i in range(0, 5):\n",
    "        for j in range(0, 5):\n",
    "            if len(np.shape(Sk[i, j])) == 2:\n",
    "                aux = Sk[i, j][0, 0]\n",
    "            elif len(np.shape(Sk[i, j])) == 1:\n",
    "                aux = Sk[i, j][0]\n",
    "            numeros.append(aux)\n",
    "        matrixSk.append(numeros.copy())\n",
    "        numeros.clear()\n",
    "    novoSk = np.array(matrixSk)\n",
    "    inversoSk = np.linalg.inv(novoSk)\n",
    "    return inversoSk\n",
    "    "
   ]
  },
  {
   "cell_type": "code",
<<<<<<< HEAD
   "execution_count": 4,
=======
   "execution_count": 28,
>>>>>>> 172a6ecc302271368a4c1e86797b794fdc508df9
   "metadata": {},
   "outputs": [],
   "source": [
    "def handlePosicao(posicao_atual):\n",
    "    posicao = []\n",
    "    for elem in posicao_atual:\n",
    "        if len(np.shape(elem)) == 2:\n",
    "            aux = elem[0, 0][0, 0]\n",
    "        elif len(np.shape(elem)) == 1:\n",
    "            aux = elem[0][0]\n",
    "        posicao.append(aux)\n",
    "    return posicao"
   ]
  },
  {
   "cell_type": "code",
<<<<<<< HEAD
   "execution_count": 5,
=======
   "execution_count": 29,
>>>>>>> 172a6ecc302271368a4c1e86797b794fdc508df9
   "metadata": {},
   "outputs": [],
   "source": [
    "def handleP(P_atual):\n",
    "    numeros = []\n",
    "    matrixP = []\n",
    "    for i in range(0, 5):\n",
    "        for j in range(0, 5):\n",
    "            if len(np.shape(P_atual[i, j])) == 2:\n",
    "                aux = P_atual[i, j][0, 0]\n",
    "            elif len(np.shape(P_atual[i, j])) == 1:\n",
    "                aux = P_atual[i, j][0]\n",
    "            numeros.append(aux)\n",
    "        matrixP.append(numeros.copy())\n",
    "        numeros.clear()\n",
    "    novoP = np.array(matrixP)\n",
    "    return novoP"
   ]
  },
  {
   "cell_type": "code",
<<<<<<< HEAD
   "execution_count": 73,
=======
   "execution_count": 45,
>>>>>>> 172a6ecc302271368a4c1e86797b794fdc508df9
   "metadata": {},
   "outputs": [],
   "source": [
    "def filtroDeKalman(posicao_anterior, deltaT, u_k, P, distancias_lidas):\n",
    "    posicao_anterior = (np.array([posicao_anterior])).transpose()\n",
    "    x_kmenos1, y_kmenos1, vx_kmenos1, vy_kmenos1, theta_kmenos1 = posicao_anterior[0], posicao_anterior[1], posicao_anterior[2], posicao_anterior[3], posicao_anterior[4] \n",
    "    aceleracao_medida, velocidade_angular = u_k[0], u_k[1]\n",
    "    alpha = theta_kmenos1 + (deltaT*velocidade_angular) \n",
<<<<<<< HEAD
    "    deltaX = (1/2 * (deltaT ** 2) * aceleracao_medida  + vx_kmenos1*deltaT) * np.cos(alpha)\n",
    "    deltaY = (1/2 * (deltaT ** 2) * aceleracao_medida + vy_kmenos1*deltaT) * np.sin(alpha)\n",
=======
    "    deltaX = (1/2 * (deltaT ** 2) * aceleracao_medida  + np.abs(vx_kmenos1)*deltaT) * np.cos(alpha)\n",
    "    deltaY = (1/2 * (deltaT ** 2) * aceleracao_medida + np.abs(vy_kmenos1)*deltaT) * np.sin(alpha)\n",
>>>>>>> 172a6ecc302271368a4c1e86797b794fdc508df9
    "    deltaVx = aceleracao_medida * deltaT * np.cos(alpha)\n",
    "    deltaVy = aceleracao_medida * deltaT * np.sin(alpha)\n",
    "    deltaTheta = deltaT * velocidade_angular\n",
    "    posicao_predita = posicao_anterior + np.array([[deltaX],\n",
    "                                                    [deltaY],\n",
    "                                                    [deltaVx],\n",
    "                                                    [deltaVy],\n",
    "                                                    [deltaTheta]])\n",
    "    F_p = np.array([[1, 0, deltaT * np.cos(alpha), 0, ((-1/2 * (deltaT ** 2) * aceleracao_medida - vx_kmenos1 * deltaT) * np.sin(alpha))],\n",
    "                     [0, 1, 0, deltaT * np.sin(alpha), ((1/2 * (deltaT ** 2) * aceleracao_medida + vy_kmenos1 * deltaT) * np.cos(alpha))],\n",
    "                     [0, 0, 1, 0, (-1)*(aceleracao_medida * deltaT * np.sin(alpha))],\n",
    "                     [0, 0, 0, 1, (aceleracao_medida * deltaT * np.cos(alpha))],\n",
    "                     [0, 0, 0, 0, 1]])\n",
    "    \n",
    "    F_u = np.array([[1/2 * (deltaT ** 2) * np.cos(alpha), \n",
    "                        ((-1/2 * (deltaT ** 3) * aceleracao_medida) - (vx_kmenos1 * (deltaT ** 2))) * np.sin(alpha)],\n",
    "                     [1/2 * (deltaT ** 2) * np.sin(alpha),\n",
    "                         ((1/2 * (deltaT ** 3) * aceleracao_medida) + (vy_kmenos1 * (deltaT ** 2))) * np.cos(alpha)],\n",
    "                     [deltaT * np.cos(alpha), (-1)*(aceleracao_medida * deltaT * np.sin(alpha))],\n",
    "                     [deltaT * np.sin(alpha), (aceleracao_medida * deltaT * np.cos(alpha))],\n",
    "                     [0, deltaT]])\n",
    "    \n",
<<<<<<< HEAD
    "    Q = np.array([[0.01, 0],\n",
    "                   [0, 0.01]])\n",
=======
    "    Q = np.array([[1, 0],\n",
    "                   [0, 1]])\n",
>>>>>>> 172a6ecc302271368a4c1e86797b794fdc508df9
    "    P_predito = (F_p.dot(P)).dot(F_p.transpose()) + (F_u.dot(Q)).dot(F_u.transpose())\n",
    "    Sx, Sy = 1, 1\n",
    "    theta = posicao_predita[4][0]\n",
    "    while theta < 0:\n",
    "        theta = theta + 2*np.pi\n",
    "    while theta > 2*np.pi:\n",
    "        theta = theta - 2*np.pi\n",
<<<<<<< HEAD
    "    \n",
    "    hDF = determinarDF(posicao_predita[0][0], posicao_predita[1][0], theta, Sx, Sy)\n",
    "    hDR = determinarDR(posicao_predita[0][0], posicao_predita[1][0], theta, Sx, Sy)\n",
    "    hDL = determinarDL(posicao_predita[0][0], posicao_predita[1][0], theta, Sx, Sy)\n",
    "    funcaoH = [hDF, hDL, hDR, 0, 0]\n",
=======
    "    hDF = determinarDF(posicao_predita[0][0], posicao_predita[1][0], theta, Sx, Sy)\n",
    "    hDR = determinarDR(posicao_predita[0][0], posicao_predita[1][0], theta, Sx, Sy)\n",
    "    hDL = determinarDL(posicao_predita[0][0], posicao_predita[1][0], theta, Sx, Sy)\n",
    "    funcaoH = [hDF, hDR, hDL, 0, 0]\n",
>>>>>>> 172a6ecc302271368a4c1e86797b794fdc508df9
    "    distancias_lidas.append(0)\n",
    "    distancias_lidas.append(0)\n",
    "    Vk = np.array([distancias_lidas]).transpose() - np.array([funcaoH]).transpose()\n",
    "    Hm = determinarMatrizH(posicao_predita[0][0], posicao_predita[1][0], theta, Sx, Sy)\n",
    "    Rk = np.array([[0.01, 0, 0, 0, 0],\n",
    "                    [0, 0.01, 0, 0, 0],\n",
    "                    [0, 0, 0.01, 0, 0],\n",
    "                    [0, 0, 0, 0.01, 0],\n",
    "                    [0, 0, 0, 0, 0.01]])\n",
    "    Sk = (Hm.dot(P_predito)).dot(Hm.transpose()) + Rk\n",
    "    inversoSk = calculateInverseSk(Sk)\n",
    "    Kk = (P_predito.dot(Hm.transpose())).dot(inversoSk) \n",
    "    posicao_atual = posicao_predita + (Kk.dot(Vk))\n",
    "    P_atual = P_predito + ((Kk.dot(Sk)).dot(Kk.transpose()))\n",
    "    return handlePosicao(posicao_atual), handleP(P_atual)"
   ]
  },
  {
   "cell_type": "code",
<<<<<<< HEAD
   "execution_count": 74,
=======
   "execution_count": 47,
>>>>>>> 172a6ecc302271368a4c1e86797b794fdc508df9
   "metadata": {},
   "outputs": [
    {
     "name": "stdout",
     "output_type": "stream",
     "text": [
<<<<<<< HEAD
      "[1.0, 0.9875000000000002, 3.244851242983822e-17, -0.04999999999999995, 4.712388980384688]\n",
      "-----------------------------------------------------------------------\n",
      "[[ 1.91212737e-01  8.58635690e-05  3.23785260e-03  2.41480223e-03\n",
      "   5.62705282e-03]\n",
      " [ 8.58635690e-05  2.45531707e-01  9.83473053e-04 -9.60902401e-02\n",
      "   1.00509967e-03]\n",
      " [ 3.23785260e-03  9.83473053e-04  1.35926089e-01  2.76589122e-02\n",
      "   4.16857825e-02]\n",
      " [ 2.41480223e-03 -9.60902401e-02  2.76589122e-02  1.42688918e-01\n",
      "   2.82671330e-02]\n",
      " [ 5.62705282e-03  1.00509967e-03  4.16857825e-02  2.82671330e-02\n",
      "   1.39751147e-01]]\n",
      "***********************************************************************\n",
      "[1.9999999999999982, 0.3993522640691367, -0.39444976734676107, -0.027381425632892635, 4.712388980384692]\n",
      "-----------------------------------------------------------------------\n",
      "[[ 0.38224888 -0.00214567  0.00552598  0.00424378  0.00805948]\n",
      " [-0.00214567  0.50371619  0.06155006 -0.17487272 -0.03543907]\n",
      " [ 0.00552598  0.06155006  0.19992883  0.03366463  0.07866061]\n",
      " [ 0.00424378 -0.17487272  0.03366463  0.15144081  0.0564168 ]\n",
      " [ 0.00805948 -0.03543907  0.07866061  0.0564168   0.27087416]]\n",
      "***********************************************************************\n",
      "[1.0135340635690224, 0.4159145213616452, -0.05014344198397919, 0.12681795204294316, 5.192628817044766]\n",
      "-----------------------------------------------------------------------\n",
      "[[ 0.76973564  0.01659875 -0.01660016 -0.01225427 -0.08700518]\n",
      " [ 0.01659875  1.42825653  0.09029712 -0.49767296 -0.12551173]\n",
      " [-0.01660016  0.09029712  0.32637452  0.07422892  0.21778298]\n",
      " [-0.01225427 -0.49767296  0.07422892  0.26593907  0.14324699]\n",
      " [-0.08700518 -0.12551173  0.21778298  0.14324699  0.44721496]]\n"
=======
      "[-0.05]\n",
      "[0.9995708154506437, 1.262602865002509e-19, -0.04892703862660945, 5.619179724611041e-18, 3.141592653589793]\n",
      "-----------------------------------------------------------------------\n",
      "[[ 2.76421674e-01 -3.78475956e-18  2.45708155e-02 -1.32265452e-17\n",
      "  -2.12186333e-17]\n",
      " [-3.78475956e-18  1.91018014e-01 -1.45377680e-17  7.15926031e-04\n",
      "  -8.35247036e-03]\n",
      " [ 2.45708155e-02 -1.45377680e-17  3.51072961e-01 -3.08041542e-17\n",
      "  -5.21670864e-18]\n",
      " [-1.32265452e-17  7.15926031e-04 -3.08041542e-17  1.02751278e-01\n",
      "  -3.00149074e-02]\n",
      " [-2.12186333e-17 -8.35247036e-03 -5.21670864e-18 -3.00149074e-02\n",
      "   3.50173919e-01]]\n",
      "***********************************************************************\n",
      "[-0.05]\n",
      "[0.9994810087938107, 9.611853269783138e-20, -0.10810961908804664, 1.1666175631133645e-17, 3.141592653589793]\n",
      "-----------------------------------------------------------------------\n",
      "[[ 7.05557595e-01  3.60279676e-18 -1.75703473e-01 -5.20097288e-18\n",
      "  -6.86777719e-17]\n",
      " [ 3.60279676e-18  3.73137926e-01 -4.29601386e-17  3.97885357e-03\n",
      "  -3.09217566e-02]\n",
      " [-1.75703473e-01 -4.29601386e-17  6.22797603e-01 -6.06447317e-17\n",
      "   3.96313087e-18]\n",
      " [-5.20097288e-18  3.97885357e-03 -6.06447317e-17  1.09148877e-01\n",
      "  -7.26842673e-02]\n",
      " [-6.86777719e-17 -3.09217566e-02  3.96313087e-18 -7.26842673e-02\n",
      "   6.01422523e-01]]\n",
      "***********************************************************************\n",
      "[-0.05]\n",
      "[0.9996828918194782, 8.537375179783293e-20, -0.18503859004342474, 1.9448825929380442e-17, 3.141592653589793]\n",
      "-----------------------------------------------------------------------\n",
      "[[ 2.10019458e+00  4.77363254e-17 -8.47197136e-01  4.73068824e-17\n",
      "  -1.77041601e-16]\n",
      " [ 4.77363254e-17  7.38348397e-01 -9.97403343e-17  1.40583232e-02\n",
      "  -8.20467904e-02]\n",
      " [-8.47197136e-01 -9.97403343e-17  1.04326807e+00 -1.02153874e-16\n",
      "   4.62930142e-17]\n",
      " [ 4.73068824e-17  1.40583232e-02 -1.02153874e-16  1.20552931e-01\n",
      "  -1.28526185e-01]\n",
      " [-1.77041601e-16 -8.20467904e-02  4.62930142e-17 -1.28526185e-01\n",
      "   8.55920994e-01]]\n"
>>>>>>> 172a6ecc302271368a4c1e86797b794fdc508df9
     ]
    }
   ],
   "source": [
    "P = np.matrix([[0.1, 0, 0, 0, 0], [0, 0.1, 0, 0, 0], [0, 0, 0.1, 0, 0], [0, 0, 0, 0.1, 0], [0, 0, 0, 0, 0.1]])\n",
<<<<<<< HEAD
    "posicao_atual, P_atual = filtroDeKalman([1, 1, 0, 0, (3*np.pi/2)], 0.5, [0.1, 0], P, [1, 0, 1])\n",
=======
    "posicao_atual, P_atual = filtroDeKalman([1, 0, 0, 0, np.pi], 0.5, [0.1, 0], P, [0, 1, 0])\n",
>>>>>>> 172a6ecc302271368a4c1e86797b794fdc508df9
    "print(posicao_atual)\n",
    "print(\"-----------------------------------------------------------------------\")\n",
    "print(P_atual)\n",
    "print(\"***********************************************************************\")\n",
<<<<<<< HEAD
    "posicao_atual, P_atual = filtroDeKalman(posicao_atual, 0.5, [0, 0], P_atual, [0.99, 0, 1])\n",
=======
    "posicao_atual, P_atual = filtroDeKalman(posicao_atual, 0.5, [0.1, 0], P_atual, [0, 1, 0])\n",
>>>>>>> 172a6ecc302271368a4c1e86797b794fdc508df9
    "print(posicao_atual)\n",
    "print(\"-----------------------------------------------------------------------\")\n",
    "print(P_atual)\n",
    "print(\"***********************************************************************\")\n",
<<<<<<< HEAD
    "posicao_atual, P_atual = filtroDeKalman(posicao_atual, 0.5, [0, 0], P_atual, [0.98, 0, 1])\n",
=======
    "posicao_atual, P_atual = filtroDeKalman(posicao_atual, 0.5, [0.1, 0], P_atual, [0, 1, 0])\n",
>>>>>>> 172a6ecc302271368a4c1e86797b794fdc508df9
    "print(posicao_atual)\n",
    "print(\"-----------------------------------------------------------------------\")\n",
    "print(P_atual)"
   ]
  },
  {
   "cell_type": "code",
<<<<<<< HEAD
   "execution_count": 75,
=======
   "execution_count": 70,
>>>>>>> 172a6ecc302271368a4c1e86797b794fdc508df9
   "metadata": {},
   "outputs": [
    {
     "name": "stdout",
     "output_type": "stream",
     "text": [
      "1\n",
<<<<<<< HEAD
      "Distâncias\n",
      "[0.597, 0.796, 0.081, 0, 0]\n",
      "Aceleração\n",
      "0.0\n",
      "Giro\n",
      "0.0\n",
      "--------------------------------- \n",
      "\n",
      "2\n",
      "Distâncias\n",
      "[0.58, 0.792, 0.078, 0, 0]\n",
      "Aceleração\n",
      "0.0\n",
      "Giro\n",
      "0.0\n",
      "--------------------------------- \n",
      "\n",
      "3\n",
      "Distâncias\n",
      "[0.583, 0.797, 0.082, 0, 0]\n",
      "Aceleração\n",
      "0.0\n",
      "Giro\n",
      "0.0\n",
      "--------------------------------- \n",
      "\n",
      "4\n",
      "Distâncias\n",
      "[0.584, 0.797, 0.079, 0, 0]\n",
      "Aceleração\n",
      "0.0\n",
      "Giro\n",
      "0.0\n",
      "--------------------------------- \n",
      "\n",
      "5\n",
      "Distâncias\n",
      "[0.579, 0.801, 0.077, 0, 0]\n",
      "Aceleração\n",
      "0.0\n",
      "Giro\n",
      "0.0\n",
      "--------------------------------- \n",
      "\n",
      "6\n",
      "Distâncias\n",
      "[0.592, 0.799, 0.077, 0, 0]\n",
      "Aceleração\n",
      "0.0\n",
      "Giro\n",
      "0.0\n",
      "--------------------------------- \n",
      "\n",
      "7\n",
      "Distâncias\n",
      "[0.589, 0.797, 0.08, 0, 0]\n",
      "Aceleração\n",
      "0.0\n",
      "Giro\n",
      "0.0\n",
      "--------------------------------- \n",
      "\n",
      "8\n",
      "Distâncias\n",
      "[0.595, 0.798, 0.077, 0, 0]\n",
      "Aceleração\n",
      "0.0\n",
      "Giro\n",
      "0.0\n",
      "--------------------------------- \n",
      "\n",
      "9\n",
      "Distâncias\n",
      "[0.595, 0.808, 0.081, 0, 0]\n",
      "Aceleração\n",
      "0.0\n",
      "Giro\n",
      "0.0\n",
      "--------------------------------- \n",
      "\n",
      "10\n",
      "Distâncias\n",
      "[0.599, 0.805, 0.079, 0, 0]\n",
      "Aceleração\n",
      "0.0\n",
      "Giro\n",
      "0.0\n",
      "--------------------------------- \n",
      "\n",
      "11\n",
      "Distâncias\n",
      "[0.599, 0.797, 0.082, 0, 0]\n",
      "Aceleração\n",
      "0.0\n",
      "Giro\n",
      "0.0\n",
      "--------------------------------- \n",
      "\n",
      "12\n",
      "Distâncias\n",
      "[0.599, 0.799, 0.079, 0, 0]\n",
      "Aceleração\n",
      "0.0\n",
      "Giro\n",
      "0.0\n",
      "--------------------------------- \n",
      "\n",
      "13\n",
      "Distâncias\n",
      "[0.597, 0.8, 0.079, 0, 0]\n",
      "Aceleração\n",
      "0.0\n",
      "Giro\n",
      "0.0\n",
      "--------------------------------- \n",
      "\n",
      "14\n",
      "Distâncias\n",
      "[0.584, 0.787, 0.078, 0, 0]\n",
      "Aceleração\n",
      "0.0\n",
      "Giro\n",
      "0.0\n",
      "--------------------------------- \n",
      "\n",
      "15\n",
      "Distâncias\n",
      "[0.583, 0.8, 0.076, 0, 0]\n",
      "Aceleração\n",
      "0.0\n",
      "Giro\n",
      "0.0\n",
      "--------------------------------- \n",
      "\n",
      "16\n",
      "Distâncias\n",
      "[0.587, 0.8, 0.077, 0, 0]\n",
      "Aceleração\n",
      "0.0\n",
      "Giro\n",
      "0.0\n",
      "--------------------------------- \n",
      "\n",
      "17\n",
      "Distâncias\n",
      "[0.584, 0.81, 0.079, 0, 0]\n",
      "Aceleração\n",
      "0.0\n",
      "Giro\n",
      "0.0\n",
      "--------------------------------- \n",
      "\n",
      "18\n",
      "Distâncias\n",
      "[0.594, 0.799, 0.079, 0, 0]\n",
      "Aceleração\n",
      "0.0\n",
      "Giro\n",
      "0.0\n",
      "--------------------------------- \n",
      "\n",
      "19\n",
      "Distâncias\n",
      "[0.6, 0.802, 0.079, 0, 0]\n",
      "Aceleração\n",
      "0.0\n",
      "Giro\n",
      "0.0\n",
      "--------------------------------- \n",
      "\n",
      "20\n",
      "Distâncias\n",
      "[0.593, 0.803, 0.079, 0, 0]\n",
      "Aceleração\n",
      "0.0\n",
      "Giro\n",
      "0.0\n",
      "--------------------------------- \n",
      "\n",
      "21\n",
      "Distâncias\n",
      "[0.596, 0.813, 0.079, 0, 0]\n",
      "Aceleração\n",
      "0.0\n",
      "Giro\n",
      "0.0\n",
      "--------------------------------- \n",
      "\n",
      "22\n",
      "Distâncias\n",
      "[0.59, 0.799, 0.08, 0, 0]\n",
      "Aceleração\n",
      "0.0\n",
      "Giro\n",
      "0.0\n",
      "--------------------------------- \n",
      "\n",
      "23\n",
      "Distâncias\n",
      "[0.597, 0.799, 0.078, 0, 0]\n",
      "Aceleração\n",
      "0.0\n",
      "Giro\n",
      "0.0\n",
      "--------------------------------- \n",
      "\n",
      "24\n",
      "Distâncias\n",
      "[0.586, 0.8, 0.079, 0, 0]\n",
      "Aceleração\n",
      "0.0\n",
      "Giro\n",
      "0.0\n",
      "--------------------------------- \n",
      "\n",
      "25\n",
      "Distâncias\n",
      "[0.59, 0.804, 0.078, 0, 0]\n",
      "Aceleração\n",
      "0.0\n",
      "Giro\n",
      "0.0\n",
      "--------------------------------- \n",
      "\n"
     ]
    },
    {
     "ename": "LinAlgError",
     "evalue": "Singular matrix",
     "output_type": "error",
     "traceback": [
      "\u001b[1;31m---------------------------------------------------------------------------\u001b[0m",
      "\u001b[1;31mLinAlgError\u001b[0m                               Traceback (most recent call last)",
      "\u001b[1;32m~\\AppData\\Local\\Temp/ipykernel_1668/3751968340.py\u001b[0m in \u001b[0;36m<module>\u001b[1;34m\u001b[0m\n\u001b[0;32m     11\u001b[0m     \u001b[0macc\u001b[0m \u001b[1;33m=\u001b[0m \u001b[0mnp\u001b[0m\u001b[1;33m.\u001b[0m\u001b[0maround\u001b[0m\u001b[1;33m(\u001b[0m\u001b[0mnp\u001b[0m\u001b[1;33m.\u001b[0m\u001b[0mabs\u001b[0m\u001b[1;33m(\u001b[0m\u001b[0mfloat\u001b[0m\u001b[1;33m(\u001b[0m\u001b[0maccel\u001b[0m\u001b[1;33m)\u001b[0m\u001b[1;33m)\u001b[0m\u001b[1;33m,\u001b[0m \u001b[1;36m1\u001b[0m\u001b[1;33m)\u001b[0m\u001b[1;33m\u001b[0m\u001b[1;33m\u001b[0m\u001b[0m\n\u001b[0;32m     12\u001b[0m     \u001b[0mgyr\u001b[0m \u001b[1;33m=\u001b[0m \u001b[0mnp\u001b[0m\u001b[1;33m.\u001b[0m\u001b[0maround\u001b[0m\u001b[1;33m(\u001b[0m\u001b[0mnp\u001b[0m\u001b[1;33m.\u001b[0m\u001b[0mabs\u001b[0m\u001b[1;33m(\u001b[0m\u001b[0mfloat\u001b[0m\u001b[1;33m(\u001b[0m\u001b[0mgyro\u001b[0m\u001b[1;33m)\u001b[0m\u001b[1;33m)\u001b[0m\u001b[1;33m,\u001b[0m \u001b[1;36m1\u001b[0m\u001b[1;33m)\u001b[0m\u001b[1;33m\u001b[0m\u001b[1;33m\u001b[0m\u001b[0m\n\u001b[1;32m---> 13\u001b[1;33m     \u001b[0mposicao_atual\u001b[0m\u001b[1;33m,\u001b[0m \u001b[0mP_atual\u001b[0m \u001b[1;33m=\u001b[0m \u001b[0mfiltroDeKalman\u001b[0m\u001b[1;33m(\u001b[0m\u001b[0mposicao_atual\u001b[0m\u001b[1;33m,\u001b[0m \u001b[1;36m0.2\u001b[0m\u001b[1;33m,\u001b[0m \u001b[1;33m[\u001b[0m\u001b[0macc\u001b[0m\u001b[1;33m,\u001b[0m \u001b[0mgyr\u001b[0m\u001b[1;33m]\u001b[0m\u001b[1;33m,\u001b[0m \u001b[0mP_atual\u001b[0m\u001b[1;33m,\u001b[0m \u001b[0mdistances\u001b[0m\u001b[1;33m)\u001b[0m\u001b[1;33m\u001b[0m\u001b[1;33m\u001b[0m\u001b[0m\n\u001b[0m\u001b[0;32m     14\u001b[0m     \u001b[0marrayPosicao\u001b[0m\u001b[1;33m.\u001b[0m\u001b[0mappend\u001b[0m\u001b[1;33m(\u001b[0m\u001b[0mposicao_atual\u001b[0m\u001b[1;33m)\u001b[0m\u001b[1;33m\u001b[0m\u001b[1;33m\u001b[0m\u001b[0m\n\u001b[0;32m     15\u001b[0m     \u001b[0marrayP\u001b[0m\u001b[1;33m.\u001b[0m\u001b[0mappend\u001b[0m\u001b[1;33m(\u001b[0m\u001b[0mP_atual\u001b[0m\u001b[1;33m)\u001b[0m\u001b[1;33m\u001b[0m\u001b[1;33m\u001b[0m\u001b[0m\n",
      "\u001b[1;32m~\\AppData\\Local\\Temp/ipykernel_1668/850263071.py\u001b[0m in \u001b[0;36mfiltroDeKalman\u001b[1;34m(posicao_anterior, deltaT, u_k, P, distancias_lidas)\u001b[0m\n\u001b[0;32m     52\u001b[0m                     [0, 0, 0, 0, 0.01]])\n\u001b[0;32m     53\u001b[0m     \u001b[0mSk\u001b[0m \u001b[1;33m=\u001b[0m \u001b[1;33m(\u001b[0m\u001b[0mHm\u001b[0m\u001b[1;33m.\u001b[0m\u001b[0mdot\u001b[0m\u001b[1;33m(\u001b[0m\u001b[0mP_predito\u001b[0m\u001b[1;33m)\u001b[0m\u001b[1;33m)\u001b[0m\u001b[1;33m.\u001b[0m\u001b[0mdot\u001b[0m\u001b[1;33m(\u001b[0m\u001b[0mHm\u001b[0m\u001b[1;33m.\u001b[0m\u001b[0mtranspose\u001b[0m\u001b[1;33m(\u001b[0m\u001b[1;33m)\u001b[0m\u001b[1;33m)\u001b[0m \u001b[1;33m+\u001b[0m \u001b[0mRk\u001b[0m\u001b[1;33m\u001b[0m\u001b[1;33m\u001b[0m\u001b[0m\n\u001b[1;32m---> 54\u001b[1;33m     \u001b[0minversoSk\u001b[0m \u001b[1;33m=\u001b[0m \u001b[0mcalculateInverseSk\u001b[0m\u001b[1;33m(\u001b[0m\u001b[0mSk\u001b[0m\u001b[1;33m)\u001b[0m\u001b[1;33m\u001b[0m\u001b[1;33m\u001b[0m\u001b[0m\n\u001b[0m\u001b[0;32m     55\u001b[0m     \u001b[0mKk\u001b[0m \u001b[1;33m=\u001b[0m \u001b[1;33m(\u001b[0m\u001b[0mP_predito\u001b[0m\u001b[1;33m.\u001b[0m\u001b[0mdot\u001b[0m\u001b[1;33m(\u001b[0m\u001b[0mHm\u001b[0m\u001b[1;33m.\u001b[0m\u001b[0mtranspose\u001b[0m\u001b[1;33m(\u001b[0m\u001b[1;33m)\u001b[0m\u001b[1;33m)\u001b[0m\u001b[1;33m)\u001b[0m\u001b[1;33m.\u001b[0m\u001b[0mdot\u001b[0m\u001b[1;33m(\u001b[0m\u001b[0minversoSk\u001b[0m\u001b[1;33m)\u001b[0m\u001b[1;33m\u001b[0m\u001b[1;33m\u001b[0m\u001b[0m\n\u001b[0;32m     56\u001b[0m     \u001b[0mposicao_atual\u001b[0m \u001b[1;33m=\u001b[0m \u001b[0mposicao_predita\u001b[0m \u001b[1;33m+\u001b[0m \u001b[1;33m(\u001b[0m\u001b[0mKk\u001b[0m\u001b[1;33m.\u001b[0m\u001b[0mdot\u001b[0m\u001b[1;33m(\u001b[0m\u001b[0mVk\u001b[0m\u001b[1;33m)\u001b[0m\u001b[1;33m)\u001b[0m\u001b[1;33m\u001b[0m\u001b[1;33m\u001b[0m\u001b[0m\n",
      "\u001b[1;32m~\\AppData\\Local\\Temp/ipykernel_1668/3057678385.py\u001b[0m in \u001b[0;36mcalculateInverseSk\u001b[1;34m(Sk)\u001b[0m\n\u001b[0;32m     12\u001b[0m         \u001b[0mnumeros\u001b[0m\u001b[1;33m.\u001b[0m\u001b[0mclear\u001b[0m\u001b[1;33m(\u001b[0m\u001b[1;33m)\u001b[0m\u001b[1;33m\u001b[0m\u001b[1;33m\u001b[0m\u001b[0m\n\u001b[0;32m     13\u001b[0m     \u001b[0mnovoSk\u001b[0m \u001b[1;33m=\u001b[0m \u001b[0mnp\u001b[0m\u001b[1;33m.\u001b[0m\u001b[0marray\u001b[0m\u001b[1;33m(\u001b[0m\u001b[0mmatrixSk\u001b[0m\u001b[1;33m)\u001b[0m\u001b[1;33m\u001b[0m\u001b[1;33m\u001b[0m\u001b[0m\n\u001b[1;32m---> 14\u001b[1;33m     \u001b[0minversoSk\u001b[0m \u001b[1;33m=\u001b[0m \u001b[0mnp\u001b[0m\u001b[1;33m.\u001b[0m\u001b[0mlinalg\u001b[0m\u001b[1;33m.\u001b[0m\u001b[0minv\u001b[0m\u001b[1;33m(\u001b[0m\u001b[0mnovoSk\u001b[0m\u001b[1;33m)\u001b[0m\u001b[1;33m\u001b[0m\u001b[1;33m\u001b[0m\u001b[0m\n\u001b[0m\u001b[0;32m     15\u001b[0m     \u001b[1;32mreturn\u001b[0m \u001b[0minversoSk\u001b[0m\u001b[1;33m\u001b[0m\u001b[1;33m\u001b[0m\u001b[0m\n\u001b[0;32m     16\u001b[0m \u001b[1;33m\u001b[0m\u001b[0m\n",
      "\u001b[1;32m<__array_function__ internals>\u001b[0m in \u001b[0;36minv\u001b[1;34m(*args, **kwargs)\u001b[0m\n",
      "\u001b[1;32mD:\\Arquivos\\anaconda3\\lib\\site-packages\\numpy\\linalg\\linalg.py\u001b[0m in \u001b[0;36minv\u001b[1;34m(a)\u001b[0m\n\u001b[0;32m    543\u001b[0m     \u001b[0msignature\u001b[0m \u001b[1;33m=\u001b[0m \u001b[1;34m'D->D'\u001b[0m \u001b[1;32mif\u001b[0m \u001b[0misComplexType\u001b[0m\u001b[1;33m(\u001b[0m\u001b[0mt\u001b[0m\u001b[1;33m)\u001b[0m \u001b[1;32melse\u001b[0m \u001b[1;34m'd->d'\u001b[0m\u001b[1;33m\u001b[0m\u001b[1;33m\u001b[0m\u001b[0m\n\u001b[0;32m    544\u001b[0m     \u001b[0mextobj\u001b[0m \u001b[1;33m=\u001b[0m \u001b[0mget_linalg_error_extobj\u001b[0m\u001b[1;33m(\u001b[0m\u001b[0m_raise_linalgerror_singular\u001b[0m\u001b[1;33m)\u001b[0m\u001b[1;33m\u001b[0m\u001b[1;33m\u001b[0m\u001b[0m\n\u001b[1;32m--> 545\u001b[1;33m     \u001b[0mainv\u001b[0m \u001b[1;33m=\u001b[0m \u001b[0m_umath_linalg\u001b[0m\u001b[1;33m.\u001b[0m\u001b[0minv\u001b[0m\u001b[1;33m(\u001b[0m\u001b[0ma\u001b[0m\u001b[1;33m,\u001b[0m \u001b[0msignature\u001b[0m\u001b[1;33m=\u001b[0m\u001b[0msignature\u001b[0m\u001b[1;33m,\u001b[0m \u001b[0mextobj\u001b[0m\u001b[1;33m=\u001b[0m\u001b[0mextobj\u001b[0m\u001b[1;33m)\u001b[0m\u001b[1;33m\u001b[0m\u001b[1;33m\u001b[0m\u001b[0m\n\u001b[0m\u001b[0;32m    546\u001b[0m     \u001b[1;32mreturn\u001b[0m \u001b[0mwrap\u001b[0m\u001b[1;33m(\u001b[0m\u001b[0mainv\u001b[0m\u001b[1;33m.\u001b[0m\u001b[0mastype\u001b[0m\u001b[1;33m(\u001b[0m\u001b[0mresult_t\u001b[0m\u001b[1;33m,\u001b[0m \u001b[0mcopy\u001b[0m\u001b[1;33m=\u001b[0m\u001b[1;32mFalse\u001b[0m\u001b[1;33m)\u001b[0m\u001b[1;33m)\u001b[0m\u001b[1;33m\u001b[0m\u001b[1;33m\u001b[0m\u001b[0m\n\u001b[0;32m    547\u001b[0m \u001b[1;33m\u001b[0m\u001b[0m\n",
      "\u001b[1;32mD:\\Arquivos\\anaconda3\\lib\\site-packages\\numpy\\linalg\\linalg.py\u001b[0m in \u001b[0;36m_raise_linalgerror_singular\u001b[1;34m(err, flag)\u001b[0m\n\u001b[0;32m     86\u001b[0m \u001b[1;33m\u001b[0m\u001b[0m\n\u001b[0;32m     87\u001b[0m \u001b[1;32mdef\u001b[0m \u001b[0m_raise_linalgerror_singular\u001b[0m\u001b[1;33m(\u001b[0m\u001b[0merr\u001b[0m\u001b[1;33m,\u001b[0m \u001b[0mflag\u001b[0m\u001b[1;33m)\u001b[0m\u001b[1;33m:\u001b[0m\u001b[1;33m\u001b[0m\u001b[1;33m\u001b[0m\u001b[0m\n\u001b[1;32m---> 88\u001b[1;33m     \u001b[1;32mraise\u001b[0m \u001b[0mLinAlgError\u001b[0m\u001b[1;33m(\u001b[0m\u001b[1;34m\"Singular matrix\"\u001b[0m\u001b[1;33m)\u001b[0m\u001b[1;33m\u001b[0m\u001b[1;33m\u001b[0m\u001b[0m\n\u001b[0m\u001b[0;32m     89\u001b[0m \u001b[1;33m\u001b[0m\u001b[0m\n\u001b[0;32m     90\u001b[0m \u001b[1;32mdef\u001b[0m \u001b[0m_raise_linalgerror_nonposdef\u001b[0m\u001b[1;33m(\u001b[0m\u001b[0merr\u001b[0m\u001b[1;33m,\u001b[0m \u001b[0mflag\u001b[0m\u001b[1;33m)\u001b[0m\u001b[1;33m:\u001b[0m\u001b[1;33m\u001b[0m\u001b[1;33m\u001b[0m\u001b[0m\n",
      "\u001b[1;31mLinAlgError\u001b[0m: Singular matrix"
=======
      "2\n",
      "3\n",
      "4\n"
     ]
    },
    {
     "ename": "UnboundLocalError",
     "evalue": "local variable 'H' referenced before assignment",
     "output_type": "error",
     "traceback": [
      "\u001b[0;31m---------------------------------------------------------------------------\u001b[0m",
      "\u001b[0;31mUnboundLocalError\u001b[0m                         Traceback (most recent call last)",
      "\u001b[0;32m<ipython-input-70-c1cc64cdddba>\u001b[0m in \u001b[0;36m<module>\u001b[0;34m\u001b[0m\n\u001b[1;32m     11\u001b[0m     \u001b[0macc\u001b[0m \u001b[0;34m=\u001b[0m \u001b[0mfloat\u001b[0m\u001b[0;34m(\u001b[0m\u001b[0maccel\u001b[0m\u001b[0;34m)\u001b[0m\u001b[0;34m\u001b[0m\u001b[0;34m\u001b[0m\u001b[0m\n\u001b[1;32m     12\u001b[0m     \u001b[0mgyr\u001b[0m \u001b[0;34m=\u001b[0m \u001b[0mfloat\u001b[0m\u001b[0;34m(\u001b[0m\u001b[0mgyro\u001b[0m\u001b[0;34m)\u001b[0m\u001b[0;34m\u001b[0m\u001b[0;34m\u001b[0m\u001b[0m\n\u001b[0;32m---> 13\u001b[0;31m     \u001b[0mposicao_atual\u001b[0m\u001b[0;34m,\u001b[0m \u001b[0mP_atual\u001b[0m \u001b[0;34m=\u001b[0m \u001b[0mfiltroDeKalman\u001b[0m\u001b[0;34m(\u001b[0m\u001b[0mposicao_atual\u001b[0m\u001b[0;34m,\u001b[0m \u001b[0;36m0.2\u001b[0m\u001b[0;34m,\u001b[0m \u001b[0;34m[\u001b[0m\u001b[0macc\u001b[0m\u001b[0;34m,\u001b[0m \u001b[0mgyr\u001b[0m\u001b[0;34m]\u001b[0m\u001b[0;34m,\u001b[0m \u001b[0mP_atual\u001b[0m\u001b[0;34m,\u001b[0m \u001b[0mdistances\u001b[0m\u001b[0;34m)\u001b[0m\u001b[0;34m\u001b[0m\u001b[0;34m\u001b[0m\u001b[0m\n\u001b[0m\u001b[1;32m     14\u001b[0m     \u001b[0marrayPosicao\u001b[0m\u001b[0;34m.\u001b[0m\u001b[0mappend\u001b[0m\u001b[0;34m(\u001b[0m\u001b[0mposicao_atual\u001b[0m\u001b[0;34m)\u001b[0m\u001b[0;34m\u001b[0m\u001b[0;34m\u001b[0m\u001b[0m\n\u001b[1;32m     15\u001b[0m     \u001b[0marrayP\u001b[0m\u001b[0;34m.\u001b[0m\u001b[0mappend\u001b[0m\u001b[0;34m(\u001b[0m\u001b[0mP_atual\u001b[0m\u001b[0;34m)\u001b[0m\u001b[0;34m\u001b[0m\u001b[0;34m\u001b[0m\u001b[0m\n",
      "\u001b[0;32m<ipython-input-61-a6766bee0749>\u001b[0m in \u001b[0;36mfiltroDeKalman\u001b[0;34m(posicao_anterior, deltaT, u_k, P, distancias_lidas)\u001b[0m\n\u001b[1;32m     44\u001b[0m     \u001b[0mdistancias_lidas\u001b[0m\u001b[0;34m.\u001b[0m\u001b[0mappend\u001b[0m\u001b[0;34m(\u001b[0m\u001b[0;36m0\u001b[0m\u001b[0;34m)\u001b[0m\u001b[0;34m\u001b[0m\u001b[0;34m\u001b[0m\u001b[0m\n\u001b[1;32m     45\u001b[0m     \u001b[0mVk\u001b[0m \u001b[0;34m=\u001b[0m \u001b[0mnp\u001b[0m\u001b[0;34m.\u001b[0m\u001b[0marray\u001b[0m\u001b[0;34m(\u001b[0m\u001b[0;34m[\u001b[0m\u001b[0mdistancias_lidas\u001b[0m\u001b[0;34m]\u001b[0m\u001b[0;34m)\u001b[0m\u001b[0;34m.\u001b[0m\u001b[0mtranspose\u001b[0m\u001b[0;34m(\u001b[0m\u001b[0;34m)\u001b[0m \u001b[0;34m-\u001b[0m \u001b[0mnp\u001b[0m\u001b[0;34m.\u001b[0m\u001b[0marray\u001b[0m\u001b[0;34m(\u001b[0m\u001b[0;34m[\u001b[0m\u001b[0mfuncaoH\u001b[0m\u001b[0;34m]\u001b[0m\u001b[0;34m)\u001b[0m\u001b[0;34m.\u001b[0m\u001b[0mtranspose\u001b[0m\u001b[0;34m(\u001b[0m\u001b[0;34m)\u001b[0m\u001b[0;34m\u001b[0m\u001b[0;34m\u001b[0m\u001b[0m\n\u001b[0;32m---> 46\u001b[0;31m     \u001b[0mHm\u001b[0m \u001b[0;34m=\u001b[0m \u001b[0mdeterminarMatrizH\u001b[0m\u001b[0;34m(\u001b[0m\u001b[0mposicao_predita\u001b[0m\u001b[0;34m[\u001b[0m\u001b[0;36m0\u001b[0m\u001b[0;34m]\u001b[0m\u001b[0;34m[\u001b[0m\u001b[0;36m0\u001b[0m\u001b[0;34m]\u001b[0m\u001b[0;34m,\u001b[0m \u001b[0mposicao_predita\u001b[0m\u001b[0;34m[\u001b[0m\u001b[0;36m1\u001b[0m\u001b[0;34m]\u001b[0m\u001b[0;34m[\u001b[0m\u001b[0;36m0\u001b[0m\u001b[0;34m]\u001b[0m\u001b[0;34m,\u001b[0m \u001b[0mtheta\u001b[0m\u001b[0;34m,\u001b[0m \u001b[0mSx\u001b[0m\u001b[0;34m,\u001b[0m \u001b[0mSy\u001b[0m\u001b[0;34m)\u001b[0m\u001b[0;34m\u001b[0m\u001b[0;34m\u001b[0m\u001b[0m\n\u001b[0m\u001b[1;32m     47\u001b[0m     Rk = np.array([[0.01, 0, 0, 0, 0],\n\u001b[1;32m     48\u001b[0m                     \u001b[0;34m[\u001b[0m\u001b[0;36m0\u001b[0m\u001b[0;34m,\u001b[0m \u001b[0;36m0.01\u001b[0m\u001b[0;34m,\u001b[0m \u001b[0;36m0\u001b[0m\u001b[0;34m,\u001b[0m \u001b[0;36m0\u001b[0m\u001b[0;34m,\u001b[0m \u001b[0;36m0\u001b[0m\u001b[0;34m]\u001b[0m\u001b[0;34m,\u001b[0m\u001b[0;34m\u001b[0m\u001b[0;34m\u001b[0m\u001b[0m\n",
      "\u001b[0;32m<ipython-input-64-64e3b92dec01>\u001b[0m in \u001b[0;36mdeterminarMatrizH\u001b[0;34m(x, y, theta, Sx, Sy)\u001b[0m\n\u001b[1;32m     61\u001b[0m                        \u001b[0;34m[\u001b[0m\u001b[0;36m0\u001b[0m\u001b[0;34m,\u001b[0m \u001b[0;36m0\u001b[0m\u001b[0;34m,\u001b[0m \u001b[0;36m0\u001b[0m\u001b[0;34m,\u001b[0m \u001b[0;36m0\u001b[0m\u001b[0;34m,\u001b[0m \u001b[0;36m0\u001b[0m\u001b[0;34m]\u001b[0m\u001b[0;34m,\u001b[0m\u001b[0;34m\u001b[0m\u001b[0;34m\u001b[0m\u001b[0m\n\u001b[1;32m     62\u001b[0m                        [0, 0, 0, 0, 0]])\n\u001b[0;32m---> 63\u001b[0;31m     \u001b[0;32mreturn\u001b[0m \u001b[0mH\u001b[0m\u001b[0;34m\u001b[0m\u001b[0;34m\u001b[0m\u001b[0m\n\u001b[0m",
      "\u001b[0;31mUnboundLocalError\u001b[0m: local variable 'H' referenced before assignment"
>>>>>>> 172a6ecc302271368a4c1e86797b794fdc508df9
     ]
    }
   ],
   "source": [
    "arrayPosicao, arrayP = [], []\n",
<<<<<<< HEAD
    "arquivoAc = open(\"arqAccel3.txt\",\"r\")\n",
    "arquivoGy = open(\"arqGyro3.txt\",\"r\")\n",
    "arquivoDist = open(\"arqDist3.txt\",\"r\")\n",
    "posicao_atual = [0, 1, 0, 0, np.pi]\n",
    "i = 0\n",
    "P_atual = np.matrix([[0.01, 0, 0, 0, 0], [0, 0.01, 0, 0, 0], [0, 0, 0.01, 0, 0], [0, 0, 0, 0.01, 0], [0, 0, 0, 0, 0.01]])\n",
    "for accel, gyro, dist in zip(arquivoAc, arquivoGy, arquivoDist):\n",
    "    arrDist = dist.split(\";\")\n",
    "    distances = [int(arrDist[0]) / 1000, int(arrDist[1]) / 1000, int(arrDist[2]) / 1000]\n",
    "    acc = np.around(np.abs(float(accel)), 1)\n",
    "    gyr = np.around(np.abs(float(gyro)), 1)\n",
=======
    "arquivoAc = open(\"arqAccel.txt\",\"r\")\n",
    "arquivoGy = open(\"arqGyro.txt\",\"r\")\n",
    "arquivoDist = open(\"arqDist.txt\",\"r\")\n",
    "posicao_atual = [0, 0, 0, 0, 0]\n",
    "i = 0\n",
    "P_atual = np.matrix([[0.1, 0, 0, 0, 0], [0, 0.1, 0, 0, 0], [0, 0, 0.1, 0, 0], [0, 0, 0, 0.1, 0], [0, 0, 0, 0, 0.1]])\n",
    "for accel, gyro, dist in zip(arquivoAc, arquivoGy, arquivoDist):\n",
    "    arrDist = dist.split(\";\")\n",
    "    distances = [int(arrDist[0]), int(arrDist[1]), int(arrDist[2])]\n",
    "    acc = float(accel)\n",
    "    gyr = float(gyro)\n",
>>>>>>> 172a6ecc302271368a4c1e86797b794fdc508df9
    "    posicao_atual, P_atual = filtroDeKalman(posicao_atual, 0.2, [acc, gyr], P_atual, distances)\n",
    "    arrayPosicao.append(posicao_atual)\n",
    "    arrayP.append(P_atual)\n",
    "    i += 1\n",
    "    print(i)\n",
<<<<<<< HEAD
    "    print('Distâncias')\n",
    "    print(distances)\n",
    "    print('Aceleração')\n",
    "    print(acc)\n",
    "    print('Giro')\n",
    "    print(gyr)\n",
    "    print('--------------------------------- \\n')\n",
    "arquivoAc.close()\n",
    "arquivoGy.close()\n",
    "arquivoDist.close()\n"
=======
    "arquivoAc.close()\n",
    "arquivoGy.close()\n",
    "arquivoDist.close()"
>>>>>>> 172a6ecc302271368a4c1e86797b794fdc508df9
   ]
  },
  {
   "cell_type": "code",
<<<<<<< HEAD
   "execution_count": 54,
=======
   "execution_count": 36,
>>>>>>> 172a6ecc302271368a4c1e86797b794fdc508df9
   "metadata": {},
   "outputs": [
    {
     "name": "stdout",
     "output_type": "stream",
     "text": [
<<<<<<< HEAD
      "270.0\n",
      "4.71238898038469\n",
=======
      "180.0\n",
      "3.141592653589793\n",
>>>>>>> 172a6ecc302271368a4c1e86797b794fdc508df9
      "-1.0\n",
      "-1.0\n"
     ]
    }
   ],
   "source": [
<<<<<<< HEAD
    "x = np.rad2deg(3*np.pi/2)\n",
    "y = np.deg2rad(x)\n",
    "print(x)\n",
    "print(y)\n",
    "print(np.sin(np.deg2rad(x)))\n",
    "print(np.sin(y))"
   ]
  },
  {
   "cell_type": "code",
   "execution_count": 76,
   "metadata": {},
   "outputs": [
    {
     "name": "stdout",
     "output_type": "stream",
     "text": [
      "[-0.07827895892866057, 0.8312760441334572, 0.08050061059724081, 0.06555208826691439, 3.2097668253873843]\n",
      "[-0.2662222674026439, 0.7108227421820804, 0.19958621119144712, 0.14054522813057319, 3.2816961167304632]\n",
      "[-0.6842300081705661, 0.6422229766823471, 0.41024706544015566, 0.24483803361683026, 3.3906632479754233]\n",
      "[-1.5547699331857454, 0.5869436329442829, 0.8193592286077139, 0.43575675327675073, 3.6079652491157366]\n",
      "[-3.1047488313490126, 0.4600386643165102, 1.5411690717838487, 0.7943635381472312, 3.9979306020353107]\n",
      "[-5.444294867773725, 0.3252860396027636, 2.6801287928236146, 1.4134451315599392, 4.315734117931699]\n",
      "[-10.076113556469064, 0.27100116878637, 5.104119575937643, 2.8784134954068668, 4.421707468143425]\n",
      "[-17.76598308599885, 0.2988757756172549, 9.11461086747365, 5.304930642662145, 4.513803196586023]\n",
      "[-30.950926637077206, 0.37220026772542547, 16.0868486474778, 9.58559977734144, 4.57554365776327]\n",
      "[-53.13659272400819, 0.581825653204447, 27.91939953703811, 16.826024829478296, 4.6190912767892645]\n",
      "[-90.51110453912128, 0.9490160671881283, 48.11013565182852, 29.05482793120383, 4.648918803049989]\n",
      "[-153.35104781743527, 1.599008517732722, 82.60880804739887, 49.4159062003928, 4.669288022081364]\n",
      "[-259.1886599365419, 2.6755320632327724, 142.177789849569, 82.83108459307324, 4.683046753548428]\n",
      "[-440.09399467490186, 4.305911684224615, 248.50609100512852, 136.79590894348212, 4.691723940029174]\n",
      "[-783.946164719916, 5.1228240132256, 469.8966678013709, 228.74425896974344, 4.697654556151048]\n",
      "[-1956.7433871521462, -20.46194219598391, 2247.453963220181, -383.91758407683164, 4.706749139470872]\n",
      "[-1854.014162571642, -59.33951796078833, 2243.325230227287, -370.6855658020161, 4.712763894074337]\n",
      "[-53.92028780094529, 14.817451413082445, 693.307224705741, -542.21971599551, -73.65891836128698]\n",
      "[-4807.681040405221, -5793.968485546561, 10964.605955176228, -19.725079661801942, -435.20552251159916]\n",
      "[-10616.31575792405, -1527.7116145417067, 13262.575680728476, -232.38130027190994, -434.911162885176]\n",
      "[10089.057418407132, -1481.7338020270522, -5576.9442322096675, -1578.038370491372, -429.96432570958643]\n",
      "[5641.487724418133, 1800.3366559774822, -4347.5768323900065, -1798.8348553338237, -427.09319889576284]\n",
      "[4784.1230060568305, -1740.2687130685802, -216.63943454961645, -2454.3260775302474, -421.0283384721102]\n",
      "[-4740.9233345209595, -1712.3315809041862, 11561.497284027642, -4751.7290997019245, -420.97336152194845]\n",
      "[-2427.4583938418837, 1709.4834154434384, 15471.791088332244, -30529.883723930347, 18023.579551851177]\n"
     ]
    }
   ],
   "source": [
    "for x in arrayPosicao:\n",
    "    print(x)"
=======
    "x = np.rad2deg(np.pi)\n",
    "y = np.deg2rad(x)\n",
    "print(x)\n",
    "print(y)\n",
    "print(np.cos(np.deg2rad(x)))\n",
    "print(np.cos(y))"
>>>>>>> 172a6ecc302271368a4c1e86797b794fdc508df9
   ]
  },
  {
   "cell_type": "code",
   "execution_count": null,
   "metadata": {},
   "outputs": [],
   "source": []
  }
 ],
 "metadata": {
  "interpreter": {
   "hash": "c32c754a6569c59e664973f13f669aa76b8b675b96de6251d1d76d7155b5e8ed"
  },
  "kernelspec": {
   "display_name": "Python 3 (ipykernel)",
   "language": "python",
   "name": "python3"
  },
  "language_info": {
   "codemirror_mode": {
    "name": "ipython",
    "version": 3
   },
   "file_extension": ".py",
   "mimetype": "text/x-python",
   "name": "python",
   "nbconvert_exporter": "python",
   "pygments_lexer": "ipython3",
   "version": "3.9.7"
  }
 },
 "nbformat": 4,
 "nbformat_minor": 2
}
